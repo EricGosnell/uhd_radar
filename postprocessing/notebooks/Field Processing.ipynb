{
 "cells": [
  {
   "cell_type": "code",
   "execution_count": null,
   "id": "9b3ac471-a786-4ccd-bdab-b0a7fdde8467",
   "metadata": {},
   "outputs": [],
   "source": [
    "%load_ext autoreload\n",
    "%autoreload 2"
   ]
  },
  {
   "cell_type": "code",
   "execution_count": null,
   "id": "6273bd01-f8a9-4b09-932a-52372d7b6678",
   "metadata": {},
   "outputs": [],
   "source": [
    "from dask.distributed import Client, LocalCluster\n",
    "\n",
    "client = Client() # Note that `memory_limit` is the limit **per worker**.\n",
    "# n_workers=4,\n",
    "#                 threads_per_worker=1,\n",
    "#                 memory_limit='3GB'\n",
    "client # If you click the dashboard link in the output, you can monitor real-time progress and get other cool visualizations."
   ]
  },
  {
   "cell_type": "code",
   "execution_count": null,
   "id": "770f50ea-f019-46de-a38c-aafcd483e9c3",
   "metadata": {},
   "outputs": [],
   "source": [
    "import copy\n",
    "import sys\n",
    "import xarray as xr\n",
    "import numpy as np\n",
    "import dask.array as da\n",
    "\n",
    "import matplotlib\n",
    "import matplotlib.pyplot as plt\n",
    "import hvplot.xarray\n",
    "import scipy.constants\n",
    "\n",
    "sys.path.append(\"..\")\n",
    "import processing_dask as pr\n",
    "import plot_dask\n",
    "import processing as old_processing\n",
    "\n",
    "sys.path.append(\"../../preprocessing/\")\n",
    "from generate_chirp import generate_chirp"
   ]
  },
  {
   "cell_type": "code",
   "execution_count": null,
   "id": "a0f40923",
   "metadata": {},
   "outputs": [],
   "source": [
    "matplotlib.rcParams.update({'font.size': 16})"
   ]
  },
  {
   "cell_type": "markdown",
   "id": "e70b6b7e-dcd8-4be1-b94c-a3cad899cd73",
   "metadata": {},
   "source": [
    "### Open and resave file"
   ]
  },
  {
   "cell_type": "code",
   "execution_count": null,
   "id": "7793fbfe-8a8c-47cc-b631-0534e3e1c19a",
   "metadata": {},
   "outputs": [],
   "source": [
    "# file path to data and configs\n",
    "#prefix = \"/Users/abroome/Documents/SDR/uhd_radar/data/20230710_095333\"\n",
    "#prefix = \"/Users/abroome/Desktop/McMurdo2022/11222022_anna/20221122_135614\"\n",
    "#prefix = \"/home/radioglaciolgy/anna/uhd_radar/data/20230719_103400\"\n",
    "prefix = \"../../data/20240222_191935\"\n",
    "\n",
    "prefix = \"../../data/20240223_172207\" # 40 dB TX gain\n",
    "#prefix = \"../../data/20240223_172330\" # 50 dB TX gain\n",
    "\n",
    "# resave data as zarr for dask processing\n",
    "zarr_path = pr.save_radar_data_to_zarr(prefix)\n",
    "\n",
    "# open zarr file, adjust chunk size to be 10 MB - 1 GB based on sample rate/bit depth\n",
    "raw = xr.open_zarr(zarr_path, chunks={\"pulse_idx\": 1000})"
   ]
  },
  {
   "cell_type": "markdown",
   "id": "6fb45450-15bd-4cf2-8311-709658955830",
   "metadata": {},
   "source": [
    "### Enter processing parameters"
   ]
  },
  {
   "cell_type": "code",
   "execution_count": null,
   "id": "38423415-95ee-450f-a1d6-7a0fe84a3e58",
   "metadata": {},
   "outputs": [],
   "source": [
    "#zero_sample_idx = 36 # X310, fs = 20 MHz\n",
    "#zero_sample_idx = 63 # X310, fs = 50 MHz\n",
    "zero_sample_idx = 159 # B205mini, fs = 56 MHz\n",
    "\n",
    "nstack = 1 # number of pulses to stack\n",
    "\n",
    "modify_rx_window = False # set to true if you want to window the reference chirp only on receive, false uses ref chirp as transmitted in config file\n",
    "rx_window = \"rectangular\" # what you want to change the rx window to if modify_rx_window is true\n",
    "\n",
    "dielectric_constant = 2.2957 # ice (air = 1, 66% velocity coax = 2.2957, ice = 3.17)\n",
    "sig_speed = scipy.constants.c / np.sqrt(dielectric_constant)"
   ]
  },
  {
   "cell_type": "markdown",
   "id": "b6ed8d87-89fa-4368-b5ca-ac5b6e6519f3",
   "metadata": {},
   "source": [
    "### Generate reference chirp"
   ]
  },
  {
   "cell_type": "code",
   "execution_count": null,
   "id": "707ddadf-7434-4cb4-906a-112b2c2ac3f0",
   "metadata": {},
   "outputs": [],
   "source": [
    "if modify_rx_window:\n",
    "    config = copy.deepcopy(raw.config)\n",
    "    config['GENERATE']['window'] = rx_window\n",
    "else:\n",
    "    config = raw.config\n",
    "\n",
    "chirp_ts, ref_chirp = generate_chirp(config)"
   ]
  },
  {
   "cell_type": "markdown",
   "id": "4316fce6-9d32-4f90-99ee-c9aef2cc3a51",
   "metadata": {},
   "source": [
    "### View raw pulse in time domain to check for clipping"
   ]
  },
  {
   "cell_type": "code",
   "execution_count": null,
   "id": "19228216-c7f0-4f7c-a5c2-d63dc4973942",
   "metadata": {},
   "outputs": [],
   "source": [
    "plot1 = np.real(raw.radar_data[:,0]).hvplot.line(x='fast_time') * np.imag(raw.radar_data[:,0]).hvplot.line(x='fast_time')\n",
    "\n",
    "plot1 = plot1.opts(xlabel='Fast Time (s)', ylabel='Raw Amplitude')\n",
    "plot1"
   ]
  },
  {
   "cell_type": "markdown",
   "id": "9b85eb39-f0f8-4329-83ce-456af3345685",
   "metadata": {},
   "source": [
    "### Clean and stack data"
   ]
  },
  {
   "cell_type": "code",
   "execution_count": null,
   "id": "fbe3f084-f365-4ff0-b9cf-8b0c070087c2",
   "metadata": {},
   "outputs": [],
   "source": [
    "stacked = pr.fill_errors(raw, error_fill_value=0.0) # fill receiver errors with 0s\n",
    "\n",
    "stacked = pr.stack(stacked, nstack) # stack "
   ]
  },
  {
   "cell_type": "markdown",
   "id": "536a830d-9022-46ef-86c2-38578ce27a38",
   "metadata": {},
   "source": [
    "### Pulse compress data"
   ]
  },
  {
   "cell_type": "code",
   "execution_count": null,
   "id": "3affa606-7ff1-4a0f-b919-acb0cbe591a3",
   "metadata": {},
   "outputs": [],
   "source": [
    "compressed = pr.pulse_compress(stacked, ref_chirp,\n",
    "                               fs=stacked.config['GENERATE']['sample_rate'],\n",
    "                               zero_sample_idx=zero_sample_idx,\n",
    "                               signal_speed=sig_speed)\n",
    "\n",
    "compressed_power = xr.apply_ufunc(\n",
    "    lambda x: 20*np.log10(np.abs(x)),\n",
    "    compressed,\n",
    "    dask=\"parallelized\"\n",
    ")"
   ]
  },
  {
   "cell_type": "markdown",
   "id": "0aa6043e-c392-437f-89bf-7a104240ec36",
   "metadata": {},
   "source": [
    "### View 1D pulse compressed data"
   ]
  },
  {
   "cell_type": "code",
   "execution_count": null,
   "id": "5347ab15-9815-4564-be5c-e4331947a102",
   "metadata": {},
   "outputs": [],
   "source": [
    "plot1D = compressed_power.radar_data[0,:].hvplot.line()\n",
    "plot1D = plot1D * compressed_power.radar_data[-1,:].hvplot.line()\n",
    "# relevant options: xlim(-80,1000)\n",
    "\n",
    "plot1D = plot1D.opts(xlabel='Reflection Distance (m)', ylabel='Return Power (dB)')\n",
    "plot1D"
   ]
  },
  {
   "cell_type": "markdown",
   "id": "1981eed7-0a04-4013-ae25-503009b1d7f2",
   "metadata": {},
   "source": [
    "### View 2D pulse compressed data (radargram)"
   ]
  },
  {
   "cell_type": "code",
   "execution_count": null,
   "id": "52502998-2657-489a-b093-31ca3263dda6",
   "metadata": {},
   "outputs": [],
   "source": [
    "# USING HOLOVIEWS (sometimes breaks)\n",
    "plot2D = compressed_power.swap_dims({'pulse_idx': 'slow_time', 'travel_time': 'reflection_distance'}).hvplot.quadmesh(x='slow_time', cmap='inferno', flip_yaxis=True)\n",
    "# relevant options: ylim=(100,-50), clim=(-90,-40)\n",
    "\n",
    "plot2D.opts(xlabel='Slow Time (s)', ylabel='Depth (m)', clabel='Return Power (dB)')\n",
    "plot2D"
   ]
  },
  {
   "cell_type": "code",
   "execution_count": null,
   "id": "306dc22e-7ae4-4d59-a84a-969f98e5f305",
   "metadata": {},
   "outputs": [],
   "source": [
    "# USING MATPLOTLIB (sometimes takes a while)\n",
    "fig, ax = plt.subplots(1,1, figsize=(10,6), facecolor='white')\n",
    "\n",
    "p = ax.pcolormesh(compressed_power.slow_time, compressed_power.reflection_distance, compressed_power.radar_data.transpose(), shading='auto', cmap='inferno')\n",
    "ax.invert_yaxis()\n",
    "clb = fig.colorbar(p, ax=ax)\n",
    "clb.set_label('Return Power (dB)')\n",
    "ax.set_xlabel('Slow Time (s)')\n",
    "ax.set_ylabel('Distance to Reflector (m)')\n",
    "# relevant options: ax.set_ylim=(100,-50), ax.set_xlim=(0, 1), vmin=-90, vmax=40\n"
   ]
  },
  {
   "cell_type": "markdown",
   "id": "bbf58a46-2217-48d2-9c19-60021159567d",
   "metadata": {},
   "source": [
    "### View spectrogram of stacked data"
   ]
  },
  {
   "cell_type": "code",
   "execution_count": null,
   "id": "4e91cd22-855c-444f-842e-cacae16279e9",
   "metadata": {},
   "outputs": [],
   "source": [
    "inpt = raw\n",
    "inpt[\"radar_data\"].shape"
   ]
  },
  {
   "cell_type": "code",
   "execution_count": null,
   "id": "75a81560-859e-45bb-b06d-2e48b73280aa",
   "metadata": {},
   "outputs": [],
   "source": [
    "# data = stacked[\"radar_data\"].to_numpy()\n",
    "n = 100\n",
    "normalize = True\n",
    "\n",
    "pulse = pr.stack(inpt, n)[{'pulse_idx':0}][\"radar_data\"].to_numpy()\n",
    "\n",
    "f, t, S = scipy.signal.spectrogram(\n",
    "    pulse,\n",
    "    fs=raw.attrs[\"config\"][\"GENERATE\"][\"sample_rate\"],\n",
    "    window='flattop',\n",
    "    nperseg=128,\n",
    "    noverlap=64,\n",
    "    scaling='density', mode='psd',\n",
    "    return_onesided=False\n",
    ")\n",
    "\n",
    "if normalize:\n",
    "    S /= np.max(S)\n",
    "\n",
    "fig, ax = plt.subplots(facecolor='white', figsize=(10,6))\n",
    "freq_mhz = (np.fft.fftshift(f) + raw.attrs['config']['RF0']['freq']) / 1e6\n",
    "pcm = ax.pcolormesh(t*1e6, freq_mhz, 10*np.log10(np.abs(np.fft.fftshift(S, axes=0))), shading='nearest') #  vmin=-420, vmax=-200\n",
    "clb = fig.colorbar(pcm, ax=ax)\n",
    "if normalize:\n",
    "    clb.set_label('Normalized Power Spectral Density [dB/Hz]')\n",
    "else:\n",
    "    clb.set_label('Power Spectral Density [dB/Hz]')\n",
    "\n",
    "ax.set_xlabel('Time [microseconds]')\n",
    "ax.set_ylabel('Frequency [MHz]')\n",
    "#ax.set_title(f\"Spectrogram of received data with n_stack={n}\")\n",
    "ax.text(0, 1.05, prefix.split(\"/\")[-1] + \"\\n\" + f\"n_stack = {n}\", horizontalalignment='left', verticalalignment='center', transform=ax.transAxes, fontdict={'size': 12})\n",
    "fig.tight_layout()\n",
    "plt.show()"
   ]
  },
  {
   "cell_type": "markdown",
   "id": "3954e602-4fb8-41cc-a627-6d3a116bf0f1",
   "metadata": {},
   "source": [
    "### View Power Spectrum of All Received Data"
   ]
  },
  {
   "cell_type": "code",
   "execution_count": null,
   "id": "48418de1-e64f-4597-b40a-1ea8ee85e2f6",
   "metadata": {},
   "outputs": [],
   "source": [
    "single_stack = pr.stack(raw, raw.radar_data.shape[1])\n",
    "\n",
    "data_rx_fft = da.fft.fft(raw.radar_data, axis=0) / raw.radar_data.shape[0]\n",
    "stacked_fft = da.fft.fft(stacked.radar_data, axis=0) / stacked.radar_data.shape[0]\n",
    "full_fft = da.fft.fft(single_stack.radar_data, axis=0) / single_stack.radar_data.shape[0]\n",
    "\n",
    "data_rx_fft_pwr = 20*da.log10(da.abs(data_rx_fft))\n",
    "stacked_fft_pwr = 20*da.log10(da.abs(stacked_fft))\n",
    "full_fft_pwr = 20*da.log10(da.abs(full_fft))\n",
    "\n",
    "#data_rx_fft_pwr.shape"
   ]
  },
  {
   "cell_type": "code",
   "execution_count": null,
   "id": "263ebb96-9e43-4b86-99a5-533e24aa7d10",
   "metadata": {},
   "outputs": [],
   "source": [
    "# fig, axs = plt.subplots(2,1)\n",
    "fig, axs = plt.subplots(facecolor='white', figsize=(10,6))\n",
    "freqs = np.fft.fftshift(np.fft.fftfreq(data_rx_fft_pwr.shape[0], d=1/raw.config['GENERATE']['sample_rate']))\n",
    "axs.plot(freqs/1e6, np.fft.fftshift(data_rx_fft_pwr[:,0]), label='Single Pulse')\n",
    "axs.plot(freqs/1e6, np.fft.fftshift(stacked_fft_pwr[:,0]), label='Single Stack')\n",
    "axs.plot(freqs/1e6, np.fft.fftshift(full_fft_pwr[:,0]), label='Full File')\n",
    "axs.set_xlabel('Frequency [MHz]')\n",
    "axs.set_ylabel('Power [dB]')\n",
    "axs.set_title('Spectrum -- Power')\n",
    "axs.grid()\n",
    "axs.legend()\n",
    "\n",
    "# axs[1].plot(freqs/1e6, np.fft.fftshift(np.angle(data_rx_fft[:,0])))\n",
    "# axs[1].plot(freqs/1e6, np.fft.fftshift(np.angle(stacked_fft[:,0])))\n",
    "# axs[1].plot(freqs/1e6, np.fft.fftshift(np.angle(full_fft[:,0])))\n",
    "# axs[1].set_xlabel('Frequency [MHz]')\n",
    "# axs[1].set_ylabel('Phase [rad]')\n",
    "# axs[1].set_title('Spectrum -- Phase')\n",
    "# axs[1].grid()\n",
    "# fig.tight_layout()"
   ]
  },
  {
   "cell_type": "code",
   "execution_count": null,
   "id": "859eb2d2-4529-4daa-ab9c-11cddd4c4862",
   "metadata": {},
   "outputs": [],
   "source": []
  }
 ],
 "metadata": {
  "kernelspec": {
   "display_name": "uhd_radar_2",
   "language": "python",
   "name": "python3"
  },
  "language_info": {
   "codemirror_mode": {
    "name": "ipython",
    "version": 3
   },
   "file_extension": ".py",
   "mimetype": "text/x-python",
   "name": "python",
   "nbconvert_exporter": "python",
   "pygments_lexer": "ipython3",
   "version": "3.8.17"
  }
 },
 "nbformat": 4,
 "nbformat_minor": 5
}
