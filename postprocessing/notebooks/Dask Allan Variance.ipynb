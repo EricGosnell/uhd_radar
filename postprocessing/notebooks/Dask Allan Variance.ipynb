{
 "cells": [
  {
   "cell_type": "code",
   "execution_count": null,
   "metadata": {},
   "outputs": [],
   "source": [
    "%load_ext autoreload\n",
    "%autoreload 2"
   ]
  },
  {
   "cell_type": "code",
   "execution_count": null,
   "metadata": {},
   "outputs": [],
   "source": [
    "from dask.distributed import Client, LocalCluster\n",
    "client = Client(n_workers=1,\n",
    "                threads_per_worker=4,\n",
    "                memory_limit='5GB')\n",
    "client"
   ]
  },
  {
   "cell_type": "code",
   "execution_count": null,
   "metadata": {},
   "outputs": [],
   "source": [
    "import copy\n",
    "import sys\n",
    "import xarray as xr\n",
    "import numpy as np\n",
    "import dask.array as da\n",
    "import time\n",
    "import os\n",
    "\n",
    "import dask\n",
    "\n",
    "import matplotlib.pyplot as plt\n",
    "import hvplot.xarray\n",
    "import holoviews as hv\n",
    "import scipy.constants\n",
    "\n",
    "sys.path.append(\"..\")\n",
    "import processing_dask as pr\n",
    "import plot_dask\n",
    "import processing as old_processing\n",
    "\n",
    "sys.path.append(\"../../preprocessing/\")\n",
    "from generate_chirp import generate_chirp"
   ]
  },
  {
   "cell_type": "code",
   "execution_count": null,
   "metadata": {},
   "outputs": [],
   "source": [
    "# TEST FILES\n",
    "#prefix = \"/home/thomas/Documents/StanfordGrad/RadioGlaciology/drone/radar_data/20230621-bench-prf-testing/20230621_163428\"\n",
    "\n",
    "# 6-21 Tests with SN 02\n",
    "#prefix = \"/home/thomas/Documents/StanfordGrad/RadioGlaciology/drone/radar_data/20230621-bench-prf/20230622_104230\" # pulse_rep_int .012 -- run fully\n",
    "#prefix = \"/home/thomas/Documents/StanfordGrad/RadioGlaciology/drone/radar_data/20230621-bench-prf/20230622_101719\" # pulse_rep_int .009 -- run fully\n",
    "#prefix = \"/home/thomas/Documents/StanfordGrad/RadioGlaciology/drone/radar_data/20230621-bench-prf/20230621_181056\" # pulse_rep_int .006 -- run fully\n",
    "#prefix = \"/home/thomas/Documents/StanfordGrad/RadioGlaciology/drone/radar_data/20230621-bench-prf/20230621_173826\" # pulse_rep_int .003 -- run fully\n",
    "prefix = \"/home/thomas/Documents/StanfordGrad/RadioGlaciology/drone/radar_data/20230629-bench-prf/20230629_114710\" # pulse_rep_int .03\n",
    "\n",
    "zero_sample_idx = 159\n",
    "sig_speed = scipy.constants.speed_of_light * (2/3)\n",
    "\n",
    "zarr_path = pr.save_radar_data_to_zarr(prefix, zarr_base_location=\"/home/thomas/Documents/StanfordGrad/RadioGlaciology/test_tmp_zarr_cache/\", skip_if_cached=True)\n",
    "\n",
    "zarr_path"
   ]
  },
  {
   "cell_type": "code",
   "execution_count": null,
   "metadata": {},
   "outputs": [],
   "source": [
    "raw = xr.open_zarr(zarr_path)\n",
    "raw = pr.remove_errors(raw)"
   ]
  },
  {
   "cell_type": "code",
   "execution_count": null,
   "metadata": {},
   "outputs": [],
   "source": [
    "config_blackman_window = copy.deepcopy(raw.config)\n",
    "config_blackman_window['GENERATE']['window'] = 'blackman'\n",
    "\n",
    "chirp_ts, chirp = generate_chirp(config_blackman_window)\n",
    "compressed = pr.pulse_compress(raw, chirp,\n",
    "                               fs=raw.config['GENERATE']['sample_rate'],\n",
    "                               zero_sample_idx=zero_sample_idx,\n",
    "                               signal_speed=scipy.constants.c * (2/3)).persist()"
   ]
  },
  {
   "cell_type": "code",
   "execution_count": null,
   "metadata": {},
   "outputs": [],
   "source": [
    "ts = np.logspace(np.log10(2e-2), np.log10(300), 20)"
   ]
  },
  {
   "cell_type": "markdown",
   "metadata": {},
   "source": [
    "## Noise Floor Variance"
   ]
  },
  {
   "cell_type": "code",
   "execution_count": null,
   "metadata": {},
   "outputs": [],
   "source": [
    "actual_stack_t = np.nan * np.zeros_like(ts)\n",
    "actual_stack_n = np.zeros_like(ts, dtype=int)\n",
    "stack_noise_var = np.nan * np.zeros_like(ts)"
   ]
  },
  {
   "cell_type": "code",
   "execution_count": null,
   "metadata": {
    "scrolled": true,
    "tags": []
   },
   "outputs": [],
   "source": [
    "for t_idx, t in enumerate(ts):\n",
    "    if not np.isnan(stack_noise_var[t_idx]):\n",
    "        continue\n",
    "    \n",
    "    timestamp = time.time()\n",
    "    actual_stack_n[t_idx] = int(t / raw.attrs['config']['CHIRP']['pulse_rep_int'])\n",
    "    actual_stack_t[t_idx] = actual_stack_n[t_idx] * raw.attrs['config']['CHIRP']['pulse_rep_int']\n",
    "    print(f\"[{t_idx+1}/{len(ts)}] \\tt={actual_stack_t[t_idx]} \\tn_stack={actual_stack_n[t_idx]}\")\n",
    "    \n",
    "    with dask.config.set(**{'array.slicing.split_large_chunks': False}):\n",
    "        stacked = pr.stack(compressed, actual_stack_n[t_idx])\n",
    "        compressed_mag = xr.apply_ufunc(np.abs, stacked, dask='parallelized')\n",
    "        vs = compressed_mag[\"radar_data\"].where((compressed_mag.reflection_distance > 2000) & (compressed_mag.reflection_distance < 4000)).dropna('travel_time').var(dim=\"travel_time\")\n",
    "        if len(vs) > 10:\n",
    "            vs = vs[:10]\n",
    "        stack_noise_var[t_idx] = vs.mean().compute().item()\n",
    "    print(f\"Completed in {time.time() - timestamp} seconds from {len(vs)} computed variances\")"
   ]
  },
  {
   "cell_type": "code",
   "execution_count": null,
   "metadata": {},
   "outputs": [],
   "source": [
    "output_base_stack = os.path.join(\"20230628-outputs/\", raw.attrs[\"basename\"]+\"-stack\")\n",
    "\n",
    "d = xr.Dataset({\"noise_var\": (\"t\", stack_noise_var)}, coords={\"t\": actual_stack_t, \"n_stack\": (\"t\", actual_stack_n)})\n",
    "d.to_netcdf(output_base_stack + \".nc\")"
   ]
  },
  {
   "cell_type": "code",
   "execution_count": null,
   "metadata": {},
   "outputs": [],
   "source": [
    "fig, ax = plt.subplots()\n",
    "ax.loglog()\n",
    "ax.scatter(actual_stack_t, stack_noise_var)\n",
    "ax.set_xlabel('Time [s]')\n",
    "ax.set_ylabel('Variance of noise floor (2-4km)')\n",
    "ax.set_title(f\"pulse_rep_int = {raw.attrs['config']['CHIRP']['pulse_rep_int']} s\")\n",
    "plt.grid()\n",
    "fig.savefig(output_base_stack + \".png\")"
   ]
  },
  {
   "cell_type": "markdown",
   "metadata": {},
   "source": [
    "## Signal peak phase"
   ]
  },
  {
   "cell_type": "code",
   "execution_count": null,
   "metadata": {},
   "outputs": [],
   "source": [
    "# Signal\n",
    "reflector_distance_expected = 25\n",
    "expected_peak_idx = (np.abs(compressed.reflection_distance - reflector_distance_expected)).argmin().item()\n",
    "\n",
    "peak_idxs = compressed[\"radar_data\"].reduce(\n",
    "    lambda x, axis: (np.abs((x[:, expected_peak_idx-5:expected_peak_idx+5]))).argmax(axis=axis) + expected_peak_idx-5,\n",
    "    dim='travel_time')\n",
    "peak_idxs.persist()\n",
    "true_peak_idx = peak_idxs[0].compute().item()\n",
    "if not (peak_idxs == true_peak_idx).all().compute().item():\n",
    "    print(\"WARNING: Peak indices are not all the same!\")"
   ]
  },
  {
   "cell_type": "code",
   "execution_count": null,
   "metadata": {},
   "outputs": [],
   "source": [
    "peak_phases = xr.apply_ufunc(\n",
    "        lambda x, idx: np.angle(x[idx]),\n",
    "        compressed[\"radar_data\"], peak_idxs,\n",
    "        input_core_dims=[['travel_time'],[]], # The dimension operated over -- aka \"don't vectorize over this\"\n",
    "        output_core_dims=[[]], # The output dimensions of the lambda function itself\n",
    "        exclude_dims=set((\"travel_time\",)), # Dimensions to not vectorize over\n",
    "        vectorize=True, # Vectorize other dimensions using a call to np.vectorize\n",
    "        dask=\"parallelized\", # Allow dask to chunk and parallelize the computation\n",
    "        output_dtypes=[np.float32], # Needed for dask: explicitly provide the output dtype\n",
    "        #dask_gufunc_kwargs={\"output_sizes\": {'travel_time': 1}} # Also needed for dask:\n",
    "        # explicitly provide the output size of the lambda function. See\n",
    "        # https://docs.dask.org/en/stable/generated/dask.array.gufunc.apply_gufunc.html\n",
    "    ).persist()"
   ]
  },
  {
   "cell_type": "raw",
   "metadata": {},
   "source": [
    "# TODO -- debugging\n",
    "\n",
    "# fs = raw.attrs['config']['GENERATE']['sample_rate']\n",
    "\n",
    "# ts = np.logspace(np.log10(2e-2), np.log10(200), 30)\n",
    "# actual_dt = np.zeros_like(ts)\n",
    "# var = np.zeros_like(ts)\n",
    "\n",
    "t_idx = 2\n",
    "t = ts[t_idx]\n",
    "\n",
    "\n",
    "pulses = int(t / raw.attrs['config']['CHIRP']['pulse_rep_int'])\n",
    "actual_dt[t_idx] = pulses * raw.attrs['config']['CHIRP']['pulse_rep_int']\n",
    "ph_group_mean = peak_phases.rolling(pulse_idx=pulses).mean()\n",
    "var[t_idx] = ((ph_group_mean[:-pulses].drop_indexes(\"pulse_idx\") - ph_group_mean[pulses:].drop_indexes(\"pulse_idx\"))**2).mean().compute().item()"
   ]
  },
  {
   "cell_type": "code",
   "execution_count": null,
   "metadata": {
    "scrolled": true,
    "tags": []
   },
   "outputs": [],
   "source": [
    "fs = raw.attrs['config']['GENERATE']['sample_rate']\n",
    "\n",
    "actual_dt = np.zeros_like(ts)\n",
    "var = np.zeros_like(ts)\n",
    "\n",
    "for t_idx, t in enumerate(ts):\n",
    "    print(f\"[{t_idx}/{len(ts)}] \\tt={t}\")\n",
    "    pulses = int(t / raw.attrs['config']['CHIRP']['pulse_rep_int'])\n",
    "    actual_dt[t_idx] = pulses * raw.attrs['config']['CHIRP']['pulse_rep_int']\n",
    "    ph_group_mean = peak_phases.rolling(pulse_idx=pulses).mean()\n",
    "    var[t_idx] = ((ph_group_mean[:-pulses].drop_indexes(\"pulse_idx\") - ph_group_mean[pulses:].drop_indexes(\"pulse_idx\"))**2).mean().compute().item()"
   ]
  },
  {
   "cell_type": "code",
   "execution_count": null,
   "metadata": {},
   "outputs": [],
   "source": [
    "output_base_2svar = os.path.join(\"20230628-outputs/\", raw.attrs[\"basename\"]+\"-2svar\")\n",
    "\n",
    "d = xr.Dataset({\"var_2s\": (\"dt\", var)}, coords={\"dt\": actual_dt})\n",
    "d.to_netcdf(output_base_2svar + \".nc\")"
   ]
  },
  {
   "cell_type": "code",
   "execution_count": null,
   "metadata": {
    "scrolled": true,
    "tags": []
   },
   "outputs": [],
   "source": [
    "fig, ax = plt.subplots()\n",
    "ax.loglog()\n",
    "ax.scatter(ts, var)\n",
    "ax.set_xlabel('Time [s]')\n",
    "ax.set_ylabel('Two sample phase variance')\n",
    "ax.set_title(f\"pulse_rep_int = {raw.attrs['config']['CHIRP']['pulse_rep_int']} s\")\n",
    "plt.grid()\n",
    "fig.savefig(output_base_2svar + \".png\")"
   ]
  },
  {
   "cell_type": "code",
   "execution_count": null,
   "metadata": {},
   "outputs": [],
   "source": [
    "output_base_phase = os.path.join(\"20230628-outputs/\", raw.attrs[\"basename\"]+\"-phase\")\n",
    "\n",
    "peak_idx_plot = peak_idxs.hvplot.scatter(x='pulse_idx')\n",
    "peak_phase_plot = peak_phases.hvplot.scatter(x='pulse_idx', datashade=True)\n",
    "peak_phase_rolling_plot = peak_phases.rolling(pulse_idx=100).mean().hvplot.scatter(x='pulse_idx', datashade=True)"
   ]
  },
  {
   "cell_type": "code",
   "execution_count": null,
   "metadata": {},
   "outputs": [],
   "source": [
    "hv.save(peak_idx_plot, output_base_phase+\"-peak-idx.png\", fmt='png')\n",
    "hv.save(peak_phase_plot, output_base_phase+\"-peak-phase.png\", fmt='png')\n",
    "hv.save(peak_phase_rolling_plot, output_base_phase+\"-peak-phase-rolling.png\", fmt='png')\n",
    "\n",
    "hv.save(peak_idx_plot, output_base_phase+\"-peak-idx.html\", fmt='widgets')\n",
    "hv.save(peak_phase_plot, output_base_phase+\"-peak-phase.html\", fmt='widgets')\n",
    "hv.save(peak_phase_rolling_plot, output_base_phase+\"-peak-phase-rolling.html\", fmt='widgets')\n",
    "\n",
    "peak_idx_plot, peak_phase_plot, peak_phase_rolling_plot"
   ]
  },
  {
   "cell_type": "code",
   "execution_count": null,
   "metadata": {},
   "outputs": [],
   "source": []
  }
 ],
 "metadata": {
  "kernelspec": {
   "display_name": "sprinkles",
   "language": "python",
   "name": "sprinkles"
  },
  "language_info": {
   "codemirror_mode": {
    "name": "ipython",
    "version": 3
   },
   "file_extension": ".py",
   "mimetype": "text/x-python",
   "name": "python",
   "nbconvert_exporter": "python",
   "pygments_lexer": "ipython3",
   "version": "3.9.7"
  },
  "vscode": {
   "interpreter": {
    "hash": "bb81f79795c75689c11bb9ecc505fc7b83ca5f9665fb7ad4bb0ce31dc1de5ece"
   }
  }
 },
 "nbformat": 4,
 "nbformat_minor": 4
}
