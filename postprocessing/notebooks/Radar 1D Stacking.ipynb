{
 "cells": [
  {
   "cell_type": "code",
   "execution_count": null,
   "metadata": {},
   "outputs": [],
   "source": [
    "%load_ext autoreload\n",
    "%autoreload 2"
   ]
  },
  {
   "cell_type": "code",
   "execution_count": null,
   "metadata": {},
   "outputs": [],
   "source": [
    "from dask.distributed import Client, LocalCluster\n",
    "\n",
    "client = Client() # Note that `memory_limit` is the limit **per worker**.\n",
    "# n_workers=4,\n",
    "#                 threads_per_worker=1,\n",
    "#                 memory_limit='3GB'\n",
    "client # If you click the dashboard link in the output, you can monitor real-time progress and get other cool visualizations."
   ]
  },
  {
   "cell_type": "code",
   "execution_count": null,
   "metadata": {},
   "outputs": [],
   "source": [
    "import os\n",
    "import copy\n",
    "import sys\n",
    "import xarray as xr\n",
    "import numpy as np\n",
    "import dask.array as da\n",
    "\n",
    "import matplotlib.pyplot as plt\n",
    "import hvplot.xarray\n",
    "import holoviews as hv\n",
    "import scipy.constants\n",
    "\n",
    "sys.path.append(\"..\")\n",
    "import processing_dask as pr\n",
    "import plot_dask\n",
    "import processing as old_processing\n",
    "\n",
    "sys.path.append(\"../../preprocessing/\")\n",
    "from generate_chirp import generate_chirp"
   ]
  },
  {
   "cell_type": "code",
   "execution_count": null,
   "metadata": {},
   "outputs": [],
   "source": [
    "# file path to data and configs\n",
    "\n",
    "#prefix = \"/home/radioglaciology/thomas/radar_data/20230721-summit-day1-bench/20230721_104552\"\n",
    "#prefix = \"/home/radioglaciology/thomas/radar_data/20230723-summit-day3-2start/20230723_103641\"\n",
    "#prefix = \"/home/radioglaciology/thomas/radar_data/20230723-summit-day3-2start/20230723_103845\" # 6 db higher tx\n",
    "#prefix = \"/home/radioglaciology/thomas/radar_data/20230723-summit-day3-2start/20230723_104059\"\n",
    "#prefix = \"/home/radioglaciology/thomas/radar_data/20230723-summit-day3-2start/20230723_104248\" # another 6 db\n",
    "#prefix = \"/home/radioglaciology/thomas/radar_data/20230723-summit-day3-2start/20230723_104456\" # 3db higher rx\n",
    "#prefix = \"/home/radioglaciology/thomas/radar_data/20230723-summit-day3-2start/20230723_104742\" # 20 -> 30 mhz chirp bw\n",
    "#prefix = \"/home/radioglaciology/thomas/radar_data/20230723-summit-day3-2start/20230723_105025\" # bw back to 20, 15 mhz lo offset\n",
    "#prefix = \"/home/radioglaciology/thomas/radar_data/20230723-summit-day3-2start/20230723_105509\" # 100k pulses, 30 us transmit, 90 us rx\n",
    "#prefix = \"/home/radioglaciology/thomas/radar_data/20230723-summit-day3-2start/20230723_105921\" # 100k pulses, 10 us transmit, 90 us rx\n",
    "#prefix = \"/home/radioglaciology/thomas/radar_data/20230723-summit-day3-2start/20230723_110253\" # 100k pulses, 5 us transmit, 60 us rx\n",
    "\n",
    "#prefix = \"/media/radioglaciology/Extreme SSD/summit_2023_mapper/20230723_151432\" # 20 us transmit\n",
    "#prefix = \"/media/radioglaciology/Extreme SSD/summit_2023_mapper/20230723_153254\" # 10 us transmit\n",
    "prefix = \"/media/radioglaciology/Extreme SSD/summit_2023_mapper/20230723_152404\" #  5 us transmit\n",
    "\n",
    "# resave data as zarr for dask processing\n",
    "zarr_path = pr.save_radar_data_to_zarr(prefix)\n",
    "\n",
    "# open zarr file, adjust chunk size to be 10 MB - 1 GB based on sample rate/bit depth\n",
    "raw = xr.open_zarr(zarr_path, chunks={\"pulse_idx\": 1000})"
   ]
  },
  {
   "cell_type": "code",
   "execution_count": null,
   "metadata": {},
   "outputs": [],
   "source": [
    "#zero_sample_idx = 36 # X310, fs = 20 MHz\n",
    "zero_sample_idx = 63 # X310, fs = 50 MHz\n",
    "#zero_sample_idx = 159 # B205mini, fs = 56 MHz\n",
    "\n",
    "modify_rx_window = True # set to true if you want to window the reference chirp only on receive, false uses ref chirp as transmitted in config file\n",
    "rx_window = \"blackman\" # what you want to change the rx window to if modify_rx_window is true\n",
    "\n",
    "#dielectric_constant = 2.2957\n",
    "dielectric_constant = 3.17 # ice (air = 1, 66% velocity coax = 2.2957)\n",
    "sig_speed = scipy.constants.c / np.sqrt(dielectric_constant)"
   ]
  },
  {
   "cell_type": "code",
   "execution_count": null,
   "metadata": {},
   "outputs": [],
   "source": [
    "if modify_rx_window:\n",
    "    config = copy.deepcopy(raw.config)\n",
    "    config['GENERATE']['window'] = rx_window\n",
    "else:\n",
    "    config = raw.config\n",
    "\n",
    "chirp_ts, ref_chirp = generate_chirp(config)"
   ]
  },
  {
   "cell_type": "code",
   "execution_count": null,
   "metadata": {},
   "outputs": [],
   "source": [
    "plots = []\n",
    "\n",
    "for n_stack in [1, 100, 1000, 10000, len(raw.pulse_idx)]:\n",
    "\n",
    "    stacked = pr.stack(raw, n_stack)\n",
    "    compressed = pr.pulse_compress(stacked, ref_chirp,\n",
    "                                fs=stacked.config['GENERATE']['sample_rate'],\n",
    "                                zero_sample_idx=zero_sample_idx,\n",
    "                                signal_speed=sig_speed)\n",
    "\n",
    "    compressed_power = xr.apply_ufunc(\n",
    "        lambda x: 20*np.log10(np.abs(x)),\n",
    "        compressed,\n",
    "        dask=\"parallelized\"\n",
    "    )\n",
    "\n",
    "    plots.append(compressed_power.radar_data[0,:].hvplot.line(label=f\"{n_stack}\"))\n",
    "\n",
    "plot1D = hv.Overlay(plots)\n",
    "plot1D = plot1D.opts(xlabel='Reflection Distance (m)', ylabel='Return Power (dB)', height=600, title=f\"1D Radargram Stacking Comparison [{os.path.basename(raw.prefix)}]\")\n",
    "plot1D = plot1D.opts(xlim=(0, 1000), ylim=(-80, 0), show_grid=True)\n",
    "plot1D"
   ]
  },
  {
   "cell_type": "code",
   "execution_count": null,
   "metadata": {},
   "outputs": [],
   "source": [
    "hvplot.save(plot1D, f\"outputs/{os.path.basename(raw.prefix)}-1d-stack-compare-near.png\")"
   ]
  },
  {
   "cell_type": "code",
   "execution_count": null,
   "metadata": {},
   "outputs": [],
   "source": []
  }
 ],
 "metadata": {
  "kernelspec": {
   "display_name": "uhd_radar_2",
   "language": "python",
   "name": "python3"
  },
  "language_info": {
   "codemirror_mode": {
    "name": "ipython",
    "version": 3
   },
   "file_extension": ".py",
   "mimetype": "text/x-python",
   "name": "python",
   "nbconvert_exporter": "python",
   "pygments_lexer": "ipython3",
   "version": "3.8.17"
  },
  "orig_nbformat": 4
 },
 "nbformat": 4,
 "nbformat_minor": 2
}
