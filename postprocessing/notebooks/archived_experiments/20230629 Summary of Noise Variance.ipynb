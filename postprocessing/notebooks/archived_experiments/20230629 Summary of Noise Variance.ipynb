{
 "cells": [
  {
   "cell_type": "code",
   "execution_count": null,
   "id": "69874c58-b409-447e-97a7-bc7805ea136f",
   "metadata": {},
   "outputs": [],
   "source": [
    "import os\n",
    "import xarray as xr\n",
    "import hvplot.xarray\n",
    "import holoviews as hv\n",
    "import numpy as np\n",
    "\n",
    "import matplotlib\n",
    "import matplotlib.pyplot as plt"
   ]
  },
  {
   "cell_type": "code",
   "execution_count": null,
   "id": "841d2aa3-6c1d-4edd-a779-631880d003cf",
   "metadata": {},
   "outputs": [],
   "source": [
    "input_base = \"20230628-outputs/\"\n",
    "input_suffix = \"-stack.nc\"\n",
    "\n",
    "files = [\n",
    "    (0.003, \"20230629_135734\"),\n",
    "    \n",
    "    (0.003, \"20230621_173826\"),\n",
    "    (0.006, \"20230621_181056\"),\n",
    "    (0.009, \"20230622_101719\"),\n",
    "    (0.012, \"20230622_104230\"),\n",
    "    \n",
    "    (0.03,  \"20230629_114710\"),\n",
    "    (0.3,   \"20230629_133038\"),\n",
    "    (0.3,   \"20230629_160608\"), # longer total duration\n",
    "    (3.0,   \"20230629_134549\"),\n",
    "]"
   ]
  },
  {
   "cell_type": "code",
   "execution_count": null,
   "id": "2eb9a737-4f1e-43c9-b8f7-7c3f1b62c94d",
   "metadata": {},
   "outputs": [],
   "source": [
    "cmap = [matplotlib.colors.rgb2hex(c) for c in plt.cm.viridis(np.linspace(0, 1, len(files)))]\n",
    "cmap"
   ]
  },
  {
   "cell_type": "code",
   "execution_count": null,
   "id": "00432bc9-79c9-4d01-8b91-d74a8ba69d40",
   "metadata": {},
   "outputs": [],
   "source": [
    "plots = []\n",
    "\n",
    "for idx, (pulse_rep_int, prefix) in enumerate(files):\n",
    "    ds = xr.open_dataset(os.path.join(input_base, prefix+input_suffix)).swap_dims({'t':'n_stack'})\n",
    "\n",
    "    plots.append(hv.Curve(ds, label=f\"{pulse_rep_int} [{prefix[-2:]}]\").opts(logx=True, logy=True, color=cmap[idx]))\n",
    "    plots.append(hv.VLine(100.0/pulse_rep_int).opts(color=cmap[idx], alpha=0.5, line_dash=\"dashed\"))\n",
    "\n",
    "p = hv.Overlay(plots).opts(width=1000, height=500, show_grid=True)\n",
    "p"
   ]
  },
  {
   "cell_type": "code",
   "execution_count": null,
   "id": "3ef94f2c-f70e-444e-a728-29225ad72882",
   "metadata": {},
   "outputs": [],
   "source": [
    "plots = []\n",
    "\n",
    "for idx, (pulse_rep_int, prefix) in enumerate(files):\n",
    "    ds = xr.open_dataset(os.path.join(input_base, prefix+input_suffix))\n",
    "\n",
    "    plots.append(hv.Curve(ds, label=f\"{pulse_rep_int} [{prefix[-2:]}]\").opts(logx=True, logy=True, color=cmap[idx]))\n",
    "    #plots.append(hv.VLine(10.0/pulse_rep_int).opts(color=cmap[idx], alpha=0.5, line_dash=\"dashed\"))\n",
    "\n",
    "p = hv.Overlay(plots).opts(width=1000, height=500, show_grid=True)\n",
    "p"
   ]
  },
  {
   "cell_type": "code",
   "execution_count": null,
   "id": "c439298d-0cb6-4a3f-b088-6e34b4c1afa6",
   "metadata": {},
   "outputs": [],
   "source": []
  }
 ],
 "metadata": {
  "kernelspec": {
   "display_name": "rg2",
   "language": "python",
   "name": "python3"
  },
  "language_info": {
   "codemirror_mode": {
    "name": "ipython",
    "version": 3
   },
   "file_extension": ".py",
   "mimetype": "text/x-python",
   "name": "python",
   "nbconvert_exporter": "python",
   "pygments_lexer": "ipython3",
   "version": "3.11.3"
  }
 },
 "nbformat": 4,
 "nbformat_minor": 5
}
