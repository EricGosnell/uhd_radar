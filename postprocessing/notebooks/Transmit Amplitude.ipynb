{
 "cells": [
  {
   "cell_type": "code",
   "execution_count": null,
   "metadata": {},
   "outputs": [],
   "source": [
    "%load_ext autoreload\n",
    "%autoreload 2\n",
    "\n",
    "from dask.distributed import Client, LocalCluster\n",
    "\n",
    "client = Client() # Note that `memory_limit` is the limit **per worker**.\n",
    "# n_workers=4,\n",
    "#                 threads_per_worker=1,\n",
    "#                 memory_limit='3GB'\n",
    "client # If you click the dashboard link in the output, you can monitor real-time progress and get other cool visualizations."
   ]
  },
  {
   "cell_type": "code",
   "execution_count": null,
   "metadata": {},
   "outputs": [],
   "source": [
    "import copy\n",
    "import sys\n",
    "import xarray as xr\n",
    "import numpy as np\n",
    "import dask.array as da\n",
    "\n",
    "import matplotlib.pyplot as plt\n",
    "import hvplot.xarray\n",
    "import holoviews as hv\n",
    "import scipy.constants\n",
    "\n",
    "sys.path.append(\"..\")\n",
    "import processing_dask as pr\n",
    "import plot_dask\n",
    "import processing as old_processing\n",
    "\n",
    "sys.path.append(\"../../preprocessing/\")\n",
    "from generate_chirp import generate_chirp"
   ]
  },
  {
   "cell_type": "code",
   "execution_count": null,
   "metadata": {},
   "outputs": [],
   "source": [
    "# file path to data and configs\n",
    "\n",
    "#prefix = \"/home/radioglaciology/thomas/radar_data/20240510-bench-decay/20240510_234434\"\n",
    "\n",
    "#prefix = \"/home/radioglaciology/thomas/radar_data/20240510-bench-decay/20240510_234556\" # 20 us rx time\n",
    "#prefix = \"/home/radioglaciology/thomas/radar_data/20240510-bench-decay/20240510_234720\" # 60 us rx time\n",
    "prefix = \"/home/radioglaciology/thomas/radar_data/20240510-bench-decay/20240510_234720\" # 100 us rx time\n",
    "\n",
    "# resave data as zarr for dask processing\n",
    "zarr_path = pr.save_radar_data_to_zarr(prefix)\n",
    "\n",
    "# open zarr file, adjust chunk size to be 10 MB - 1 GB based on sample rate/bit depth\n",
    "raw = xr.open_zarr(zarr_path, chunks={\"pulse_idx\": 1000})"
   ]
  },
  {
   "cell_type": "markdown",
   "metadata": {},
   "source": [
    "### View raw pulse in time domain to check for clipping"
   ]
  },
  {
   "cell_type": "code",
   "execution_count": null,
   "metadata": {},
   "outputs": [],
   "source": [
    "single_pulse_raw = raw.radar_data[{'pulse_idx': 0}].compute()\n",
    "plot1 = np.real(single_pulse_raw).hvplot.line(x='fast_time', color='red', label=\"real\") * np.imag(single_pulse_raw).hvplot.line(x='fast_time', color=\"blue\", label=\"imag\")\n",
    "\n",
    "plot1 = plot1.opts(xlabel='Fast Time (s)', ylabel='Raw Amplitude')\n",
    "plot1"
   ]
  },
  {
   "cell_type": "code",
   "execution_count": null,
   "metadata": {},
   "outputs": [],
   "source": [
    "plot_objs = []\n",
    "\n",
    "for pulse_idx in np.arange(4):\n",
    "    single_pulse_raw = raw.radar_data[{'pulse_idx': pulse_idx}].compute()\n",
    "    plot_objs.append(np.real(single_pulse_raw).hvplot.line(x='fast_time', label=f\"pulse_idx {pulse_idx}\"))\n",
    "\n",
    "plot1 = hv.Overlay(plot_objs).opts(xlabel='Fast Time (s)', ylabel='Raw Amplitude')\n",
    "plot1"
   ]
  },
  {
   "cell_type": "code",
   "execution_count": null,
   "metadata": {},
   "outputs": [],
   "source": [
    "raw.config['GENERATE']['chirp_length']"
   ]
  },
  {
   "cell_type": "code",
   "execution_count": null,
   "metadata": {},
   "outputs": [],
   "source": [
    "radar_data_chirp = raw.radar_data.where(raw.fast_time <= raw.config['GENERATE']['chirp_length'], drop=True)\n",
    "(20*np.log10(np.sqrt((np.abs(radar_data_chirp)**2).mean(dim='sample_idx')))).hvplot.scatter(x=\"pulse_idx\").opts(ylabel=\"RX signal mean amplitude [dB]\")"
   ]
  },
  {
   "cell_type": "code",
   "execution_count": null,
   "metadata": {},
   "outputs": [],
   "source": [
    "#plots = []\n",
    "p = (20*np.log10(np.sqrt((np.abs(radar_data_chirp)**2).mean(dim='sample_idx')))).hvplot.scatter(x=\"pulse_idx\", label=\"100 us RX\").opts(ylabel=\"RX signal mean amplitude [dB]\")\n",
    "plots.append(p)"
   ]
  },
  {
   "cell_type": "code",
   "execution_count": null,
   "metadata": {},
   "outputs": [],
   "source": [
    "hv.Overlay(plots)"
   ]
  },
  {
   "cell_type": "code",
   "execution_count": null,
   "metadata": {},
   "outputs": [],
   "source": []
  }
 ],
 "metadata": {
  "language_info": {
   "name": "python"
  }
 },
 "nbformat": 4,
 "nbformat_minor": 2
}
