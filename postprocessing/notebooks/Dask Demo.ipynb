{
 "cells": [
  {
   "cell_type": "code",
   "execution_count": null,
   "metadata": {},
   "outputs": [],
   "source": [
    "%load_ext autoreload\n",
    "%autoreload 2"
   ]
  },
  {
   "cell_type": "code",
   "execution_count": null,
   "metadata": {},
   "outputs": [],
   "source": [
    "from dask.distributed import Client, LocalCluster\n",
    "client = Client()\n",
    "client"
   ]
  },
  {
   "cell_type": "code",
   "execution_count": null,
   "metadata": {},
   "outputs": [],
   "source": [
    "import sys\n",
    "import xarray as xr\n",
    "import numpy as np\n",
    "import dask.array as da\n",
    "\n",
    "import matplotlib.pyplot as plt\n",
    "import scipy.constants\n",
    "\n",
    "sys.path.append(\"..\")\n",
    "import processing_dask as pr\n",
    "import plot_dask\n",
    "import processing as old_processing\n",
    "\n",
    "sys.path.append(\"../../preprocessing/\")\n",
    "from generate_chirp import generate_chirp"
   ]
  },
  {
   "cell_type": "code",
   "execution_count": null,
   "metadata": {},
   "outputs": [],
   "source": [
    "#prefix = \"/home/thomas/Documents/StanfordGrad/RadioGlaciology/drone/radar_data/20230621-bench-prf-testing/20230621_163428\"\n",
    "#prefix = \"/home/thomas/Documents/StanfordGrad/RadioGlaciology/drone/radar_data/20230621-bench-prf/20230622_104230\"\n",
    "prefix = \"/home/thomas/Documents/StanfordGrad/RadioGlaciology/drone/radar_data/20230621-bench-prf/20230621_173826\"\n",
    "\n",
    "zero_sample_idx = 159\n",
    "\n",
    "zarr_path = pr.save_radar_data_to_zarr(prefix, zarr_base_location=\"/home/thomas/Documents/StanfordGrad/RadioGlaciology/test_tmp_zarr_cache/\", skip_if_cached=True)\n",
    "# pr.save_radar_data_to_zarr(prefix, zarr_base_location=\"/home/thomas/Documents/StanfordGrad/RadioGlaciology/test_tmp_zarr_cache/\", dryrun=True)\n",
    "\n",
    "zarr_path"
   ]
  },
  {
   "cell_type": "code",
   "execution_count": null,
   "metadata": {},
   "outputs": [],
   "source": [
    "raw = xr.open_zarr(zarr_path).radar_data\n",
    "\n",
    "raw"
   ]
  },
  {
   "cell_type": "code",
   "execution_count": null,
   "metadata": {},
   "outputs": [],
   "source": [
    "stacked = pr.stack(raw, 1000)"
   ]
  },
  {
   "cell_type": "code",
   "execution_count": null,
   "metadata": {},
   "outputs": [],
   "source": [
    "chirp_ts, chirp = generate_chirp(stacked.config)\n",
    "compressed = pr.pulse_compress(stacked, chirp, fs=stacked.config['GENERATE']['sample_rate'], zero_sample_idx=zero_sample_idx)"
   ]
  },
  {
   "cell_type": "code",
   "execution_count": null,
   "metadata": {},
   "outputs": [],
   "source": [
    "sig_speed = scipy.constants.speed_of_light * (2/3)\n",
    "plot_dask.plot_radargram(compressed, sig_speed=sig_speed, figsize=(10,6), ylims=(-100,2000), vmax=0, vmin=-70)\n",
    "plt.show()"
   ]
  },
  {
   "cell_type": "code",
   "execution_count": null,
   "metadata": {},
   "outputs": [],
   "source": [
    "plt.plot(compressed.fast_time * (sig_speed/2), 20*np.log10(np.abs(compressed[:,20].compute())))\n",
    "plt.xlim(-200, 5000)\n",
    "plt.xlabel(\"Distance to reflector [m]\")\n",
    "plt.grid()"
   ]
  },
  {
   "cell_type": "code",
   "execution_count": null,
   "metadata": {},
   "outputs": [],
   "source": []
  }
 ],
 "metadata": {
  "kernelspec": {
   "display_name": "rg2",
   "language": "python",
   "name": "python3"
  },
  "language_info": {
   "codemirror_mode": {
    "name": "ipython",
    "version": 3
   },
   "file_extension": ".py",
   "mimetype": "text/x-python",
   "name": "python",
   "nbconvert_exporter": "python",
   "pygments_lexer": "ipython3",
   "version": "3.11.3"
  },
  "orig_nbformat": 4,
  "vscode": {
   "interpreter": {
    "hash": "bb81f79795c75689c11bb9ecc505fc7b83ca5f9665fb7ad4bb0ce31dc1de5ece"
   }
  }
 },
 "nbformat": 4,
 "nbformat_minor": 2
}
