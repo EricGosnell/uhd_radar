{
 "cells": [
  {
   "cell_type": "code",
   "execution_count": null,
   "metadata": {},
   "outputs": [],
   "source": [
    "%load_ext autoreload\n",
    "%autoreload 2"
   ]
  },
  {
   "cell_type": "code",
   "execution_count": null,
   "metadata": {},
   "outputs": [],
   "source": [
    "import holoviews as hv\n",
    "import scipy.interpolate\n",
    "import pickle\n",
    "import pandas as pd\n",
    "import hvplot.pandas\n",
    "import matplotlib.pyplot as plt\n",
    "import matplotlib\n",
    "import os\n",
    "import numpy as np"
   ]
  },
  {
   "cell_type": "code",
   "execution_count": null,
   "metadata": {},
   "outputs": [],
   "source": [
    "noise_pickles = [\n",
    "     # MAPPERR PHASE DITHERING/LO OFFSET REMOVAL COMPARISON -- FOR ORCA PAPER\n",
    "    (\"/media/thomas/Extreme SSD/orca_paper_data_files/dithering/x310/20240226_105437-noise-stats.pickle\", \"Default\", {\"linestyle\": \":\", \"color\": \"C1\", 'linewidth': 3}), # \"[X310] no phase dithering, no LO offset\"\n",
    "    (\"/media/thomas/Extreme SSD/orca_paper_data_files/dithering/x310/20240226_110410-noise-stats.pickle\", \"with LO offset\", {\"linestyle\": \"--\", \"color\": \"C1\", 'linewidth': 3}), # \"[X310] no phase dithering, software LO offset on TX\"\n",
    "    (\"/media/thomas/Extreme SSD/orca_paper_data_files/dithering/x310/20240226_105916-noise-stats.pickle\", \"with phase dithering\", {\"linestyle\": \":\", \"color\": \"C2\"}), # \"[X310] phase dithering, no LO offset\"\n",
    "    (\"/media/thomas/Extreme SSD/orca_paper_data_files/dithering/x310/20240226_110948-noise-stats.pickle\", \"with phase dithering and LO offset\", {\"linestyle\": \"--\", \"color\": \"C2\"}), # \"[X310] phase dithering, software LO offset on TX\"\n",
    "\n",
    "    #(\"/media/thomas/Extreme SSD/orca_paper_data_files/dithering/b205/20240226_225223-noise-stats.pickle\", \"[B205] no phase dithering, software LO offset\", {}),\n",
    "    #(\"/media/thomas/Extreme SSD/orca_paper_data_files/dithering/b205/20240226_232119-noise-stats.pickle\", \"[B205] no phase dithering, no LO offset\", {}),\n",
    "    #(\"/media/thomas/Extreme SSD/orca_paper_data_files/dithering/b205/20240226_232654-noise-stats.pickle\", \"[B205] phase dithering, no LO offset\", {}),\n",
    "    #(\"/media/thomas/Extreme SSD/orca_paper_data_files/dithering/b205/20240226_233404-noise-stats.pickle\", \"[B205] phase dithering, software LO offset\", {}}),\n",
    "]\n",
    "\n",
    "# noise_pickles = [\n",
    "#     (\"outputs/20240227_230650-noise-stats.pickle\", \"No Switching Noise\"),\n",
    "#     (\"outputs/20240227_230531-noise-stats.pickle\", \"Switching Noise\")\n",
    "# ]"
   ]
  },
  {
   "cell_type": "markdown",
   "metadata": {},
   "source": [
    "### Holoviews Plot"
   ]
  },
  {
   "cell_type": "code",
   "execution_count": null,
   "metadata": {},
   "outputs": [],
   "source": [
    "plots = []\n",
    "\n",
    "for filename, label, _ in noise_pickles:\n",
    "\n",
    "    with open(filename, 'rb') as f:\n",
    "        df = pd.DataFrame(pickle.load(f)).set_index('n_stacks')\n",
    "    df[\"stack_noise_mean_db\"] = 10*np.log10(df[\"stack_noise_mean\"])\n",
    "\n",
    "    p = df[\"stack_noise_mean_db\"].hvplot.line(logx=True, grid=True, label=label) #os.path.basename(df[\"prefix\"].iloc[0]))\n",
    "    plots.append(p)\n",
    "\n",
    "\n",
    "plot_noise = hv.Overlay(plots).opts(width=1000, height=500, legend_position='right', ylabel='Mean Noise Power (dB)')\n",
    "plot_noise"
   ]
  },
  {
   "cell_type": "code",
   "execution_count": null,
   "metadata": {},
   "outputs": [],
   "source": [
    "#hvplot.save(plot_noise, f\"/Users/abroome/Desktop/Summit2023/figs/coherent_noise_compensation_noise_stats.html\")"
   ]
  },
  {
   "cell_type": "markdown",
   "metadata": {},
   "source": [
    "### Matplotlib (for paper)"
   ]
  },
  {
   "cell_type": "code",
   "execution_count": null,
   "metadata": {},
   "outputs": [],
   "source": [
    "matplotlib.rcParams.update({\n",
    "        'font.size': 16,\n",
    "        'legend.fontsize': 10,\n",
    "        'lines.linewidth': 2,\n",
    "        \"svg.fonttype\": 'none'\n",
    "    })"
   ]
  },
  {
   "cell_type": "code",
   "execution_count": null,
   "metadata": {},
   "outputs": [],
   "source": [
    "fig, ax = plt.subplots(figsize=(6, 4))\n",
    "\n",
    "for filename, label, plt_kwargs in noise_pickles:\n",
    "\n",
    "    with open(filename, 'rb') as f:\n",
    "        df = pd.DataFrame(pickle.load(f)).set_index('n_stacks')\n",
    "    df[\"stack_noise_mean_db\"] = 10*np.log10(df[\"stack_noise_mean\"])\n",
    "\n",
    "    ax.plot(df.index, df[\"stack_noise_mean_db\"], label=label, **plt_kwargs)\n",
    "\n",
    "# Theoretical line\n",
    "ref_pickle = noise_pickles[-1]\n",
    "with open(ref_pickle[0], 'rb') as f:\n",
    "    df = pd.DataFrame(pickle.load(f)).set_index('n_stacks')\n",
    "theoretical_stacks = df.index\n",
    "theoretical_noise = 10*np.log10(df[\"stack_noise_mean\"].iloc[0]) - 10*np.log10(theoretical_stacks)\n",
    "ax.plot(theoretical_stacks, theoretical_noise, label=\"Theoretical slope\", linestyle=\"-\", color=\"black\", zorder=1, linewidth=1)\n",
    "\n",
    "ax.set_xlabel('Number of Coherent Summations')\n",
    "ax.set_ylabel('Mean Noise Power [dB]')\n",
    "ax.legend()\n",
    "ax.grid()\n",
    "ax.semilogx()\n",
    "ax.set_xticks([1e0, 1e1, 1e2, 1e3, 1e4, 1e5, 1e6])\n",
    "ax.set_xlim(1e0, 1e6)\n",
    "ax.set_ylim(-150, -90)\n",
    "fig.tight_layout()\n",
    "fig.savefig(\"stacking_noise.png\", dpi=300)\n",
    "plt.show()"
   ]
  },
  {
   "cell_type": "code",
   "execution_count": null,
   "metadata": {},
   "outputs": [],
   "source": []
  }
 ],
 "metadata": {
  "kernelspec": {
   "display_name": "Python 3",
   "language": "python",
   "name": "python3"
  },
  "language_info": {
   "codemirror_mode": {
    "name": "ipython",
    "version": 3
   },
   "file_extension": ".py",
   "mimetype": "text/x-python",
   "name": "python",
   "nbconvert_exporter": "python",
   "pygments_lexer": "ipython3",
   "version": "3.11.3"
  }
 },
 "nbformat": 4,
 "nbformat_minor": 4
}
