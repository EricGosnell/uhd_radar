{
 "cells": [
  {
   "cell_type": "code",
   "execution_count": null,
   "metadata": {},
   "outputs": [],
   "source": [
    "%load_ext autoreload\n",
    "%autoreload 2"
   ]
  },
  {
   "cell_type": "code",
   "execution_count": null,
   "metadata": {},
   "outputs": [],
   "source": [
    "import holoviews as hv\n",
    "import scipy.interpolate\n",
    "import pickle\n",
    "import pandas as pd\n",
    "import hvplot.pandas\n",
    "import os\n",
    "import numpy as np"
   ]
  },
  {
   "cell_type": "code",
   "execution_count": null,
   "metadata": {},
   "outputs": [],
   "source": [
    "noise_pickles = [\n",
    "     # MAPPERR PHASE DITHERING/LO OFFSET REMOVAL COMPARISON -- FOR ORCA PAPER\n",
    "    (\"orca_paper/outputs/20240226_105437-noise-stats.pickle\", \"20240226_105437: no phase dithering, no LO offset\"),\n",
    "    (\"orca_paper/outputs/20240226_105916-noise-stats.pickle\", \"20240226_105916: phase dithering, no LO offset\"),\n",
    "    (\"orca_paper/outputs/20240226_110410-noise-stats.pickle\", \"20240226_110410: no phase dithering, software LO offset on TX\"),\n",
    "    (\"orca_paper/outputs/20240226_110948-noise-stats.pickle\", \"20240226_110948: phase dithering, software LO offset on TX\")\n",
    "]"
   ]
  },
  {
   "cell_type": "code",
   "execution_count": null,
   "metadata": {},
   "outputs": [],
   "source": [
    "plots = []\n",
    "\n",
    "for filename, label in noise_pickles:\n",
    "\n",
    "    with open(filename, 'rb') as f:\n",
    "        df = pd.DataFrame(pickle.load(f)).set_index('n_stacks')\n",
    "    df[\"stack_noise_mean_db\"] = 10*np.log10(df[\"stack_noise_mean\"])\n",
    "\n",
    "    p = df[\"stack_noise_mean_db\"].hvplot.line(logx=True, grid=True, label=label) #os.path.basename(df[\"prefix\"].iloc[0]))\n",
    "    plots.append(p)\n",
    "\n",
    "\n",
    "plot_noise = hv.Overlay(plots).opts(width=1000, height=500, legend_position='right', ylabel='Mean Noise Power (dB)')\n",
    "plot_noise"
   ]
  },
  {
   "cell_type": "code",
   "execution_count": null,
   "metadata": {},
   "outputs": [],
   "source": [
    "#hvplot.save(plot_noise, f\"/Users/abroome/Desktop/Summit2023/figs/coherent_noise_compensation_noise_stats.html\")"
   ]
  },
  {
   "cell_type": "code",
   "execution_count": null,
   "metadata": {},
   "outputs": [],
   "source": []
  }
 ],
 "metadata": {
  "kernelspec": {
   "display_name": "sprinkles",
   "language": "python",
   "name": "sprinkles"
  },
  "language_info": {
   "codemirror_mode": {
    "name": "ipython",
    "version": 3
   },
   "file_extension": ".py",
   "mimetype": "text/x-python",
   "name": "python",
   "nbconvert_exporter": "python",
   "pygments_lexer": "ipython3",
   "version": "3.9.7"
  }
 },
 "nbformat": 4,
 "nbformat_minor": 4
}
