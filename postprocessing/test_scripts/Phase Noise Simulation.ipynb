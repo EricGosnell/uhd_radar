{
 "cells": [
  {
   "cell_type": "code",
   "execution_count": null,
   "metadata": {},
   "outputs": [],
   "source": [
    "%load_ext autoreload\n",
    "%autoreload 2"
   ]
  },
  {
   "cell_type": "code",
   "execution_count": null,
   "metadata": {},
   "outputs": [],
   "source": [
    "import os\n",
    "import copy\n",
    "import sys\n",
    "import xarray as xr\n",
    "import numpy as np\n",
    "import dask.array as da\n",
    "\n",
    "import matplotlib.pyplot as plt\n",
    "import hvplot.xarray\n",
    "import scipy.constants\n",
    "\n",
    "sys.path.append(\"..\")\n",
    "import processing_dask as pr\n",
    "import plot_dask\n",
    "import processing as old_processing\n",
    "\n",
    "import colorednoise as cn\n",
    "\n",
    "sys.path.append(\"../../preprocessing/\")\n",
    "#from generate_chirp import generate_chirp\n",
    "\n",
    "sys.path.append(\"..\")\n",
    "from processing import pulse_compress"
   ]
  },
  {
   "cell_type": "code",
   "execution_count": null,
   "metadata": {},
   "outputs": [],
   "source": [
    "def generate_chirp_with_jitter(config, t_jitter=0):\n",
    "    \"\"\"\n",
    "    Generate a chirp according to parameters in the config dictionary, typically\n",
    "    loaded from a config YAML file.\n",
    "\n",
    "    Returns a tuple (ts, chirp_complex), where ts is a numpy array of time\n",
    "    samples, and chirp_complex is a numpy array of complex floating point values\n",
    "    representing the chirp.\n",
    "\n",
    "    If you're looking for a floating point valued chirp to use in convolution,\n",
    "    this is probably the right function.\n",
    "\n",
    "    This function does not convert the complex numpy array to the cpu format\n",
    "    expected by the radar code. If you want to produce samples to feed the radar\n",
    "    code, look at `generate_from_yaml_filename` (later in this file) instead.\n",
    "    \"\"\"\n",
    "    # Load parameters\n",
    "    gen_params = config[\"GENERATE\"]\n",
    "    chirp_type = gen_params[\"chirp_type\"]\n",
    "    sample_rate = gen_params[\"sample_rate\"]\n",
    "    chirp_bandwidth = gen_params[\"chirp_bandwidth\"]\n",
    "    offset = gen_params.get(\"lo_offset_sw\", 0)\n",
    "    window = gen_params[\"window\"]\n",
    "    chirp_length = gen_params[\"chirp_length\"]\n",
    "    pulse_length = gen_params.get(\"pulse_length\", chirp_length) # default to chirp_length is no pulse_length is specified\n",
    "\n",
    "    # Build chirp\n",
    "\n",
    "    end_freq = chirp_bandwidth / 2 # Chirp goes from -BW/2 to BW/2\n",
    "    start_freq = -1 * end_freq\n",
    "\n",
    "    start_freq += offset\n",
    "    end_freq += offset\n",
    "\n",
    "    ts = np.arange(0, chirp_length-(1/(2*sample_rate)), 1/(sample_rate)) + t_jitter\n",
    "    ts_zp = np.arange(0, (pulse_length)-(1/(2*sample_rate)), 1/(sample_rate))\n",
    "\n",
    "    if chirp_type == 'linear':\n",
    "        ph = 2*np.pi*((start_freq)*ts + (end_freq - start_freq) * ts**2 / (2*chirp_length))\n",
    "    elif chirp_type == 'hyperbolic':\n",
    "        ph = 2*np.pi*(-1*start_freq*end_freq*chirp_length/(end_freq-start_freq))*np.log(1- (end_freq-start_freq)*ts/(end_freq*chirp_length))\n",
    "    else:\n",
    "        ph = 2*np.pi*(start_freq*ts + (end_freq - start_freq) * ts**2 / (2*chirp_length))\n",
    "        printf(\"[ERROR] Unrecognized chirp type '{chirp_type}'\")\n",
    "        return None, None\n",
    "\n",
    "    chirp_complex = np.exp(1j*ph)\n",
    "\n",
    "    if window == \"blackman\":\n",
    "        chirp_complex = chirp_complex * np.blackman(chirp_complex.size)\n",
    "    elif window == \"hamming\":\n",
    "        chirp_complex = chirp_complex * np.hamming(chirp_complex.size)\n",
    "    elif window == \"kaiser14\":\n",
    "        chirp_complex = chirp_complex * np.kaiser(chirp_complex.size, 14.0)\n",
    "    elif window == \"kaiser10\":\n",
    "        chirp_complex = chirp_complex * np.kaiser(chirp_complex.size, 10.0)\n",
    "    elif window == \"kaiser18\": \n",
    "        chirp_complex = chirp_complex * np.kaiser(chirp_complex.size, 18.0)\n",
    "    elif window != \"rectangular\":\n",
    "        print(\"[ERROR] Unrecognized window function '{window}'\")\n",
    "        return None, None\n",
    "\n",
    "    chirp_complex = np.pad(chirp_complex, (int(np.floor(ts_zp.size - ts.size)/2),), 'constant')\n",
    "\n",
    "    chirp_complex = chirp_complex\n",
    "\n",
    "    return ts_zp, chirp_complex\n"
   ]
  },
  {
   "cell_type": "code",
   "execution_count": null,
   "metadata": {},
   "outputs": [],
   "source": [
    "def plot_signal(ts, sig, sample_rate, one_sided=False, log_scale=False, nperseg=2**10, ax1=None, ax2=None, label=\"\", alpha=1.0, time_delay=None):\n",
    "    if ax1 is None or ax2 is None:\n",
    "        fig, (ax1, ax2) = plt.subplots(1, 2, figsize=(12, 4))\n",
    "        fig.tight_layout()\n",
    "    else:\n",
    "        fig = None\n",
    "\n",
    "    # Plot in the time domain\n",
    "    ax1.plot(ts * 1e6, np.real(sig), label=label+\" [real]\", alpha=alpha)\n",
    "    if not one_sided:\n",
    "        ax1.plot(ts * 1e6, np.imag(sig), label=label+\" [imag]\", alpha=alpha)\n",
    "    ax1.set_xlabel('Time [us]')\n",
    "    ax1.set_ylabel('Amplitude')\n",
    "    ax1.set_title('Time Domain')\n",
    "    ax1.grid(True)\n",
    "\n",
    "    # Plot in the frequency domain\n",
    "    freq, spectrum = scipy.signal.welch(sig, fs=sample_rate, nperseg=nperseg, return_onesided=one_sided, detrend=False, window='rectangular', scaling='density')\n",
    "    \n",
    "    if time_delay is not None:\n",
    "        ratio = 4 * (np.sin(np.pi * freq * time_delay))**2\n",
    "    \n",
    "    if not one_sided:\n",
    "        freq = np.fft.fftshift(freq)\n",
    "        spectrum = np.fft.fftshift(spectrum)\n",
    "    #freq = np.fft.fftshift(np.fft.fftfreq(len(sig), d=1/sample_rate))\n",
    "    #spectrum = np.fft.fftshift(np.fft.fft(sig))\n",
    "    ax2.plot(freq / 1e6, 10*np.log10(np.abs(spectrum)), label=label, alpha=alpha)\n",
    "\n",
    "    if time_delay is not None:\n",
    "        ax2.plot(freq / 1e6, 10*np.log10(np.abs(ratio*spectrum)), label=f\"Theoretical for delay {time_delay}\", alpha=alpha, linestyle='--')\n",
    "\n",
    "    if log_scale:\n",
    "        ax2.set_xscale('log')\n",
    "        ax2.set_xlim([0.01, None])\n",
    "        if not one_sided:\n",
    "            raise ValueError(\"Can't use log scale with two-sided spectrum\")\n",
    "    ax2.set_xlabel('Frequency [MHz]')\n",
    "    ax2.set_ylabel('Power [dB]')\n",
    "    ax2.set_title('Frequency Domain')\n",
    "    ax2.grid(True)\n",
    "\n",
    "    return fig, (ax1, ax2)\n"
   ]
  },
  {
   "cell_type": "code",
   "execution_count": null,
   "metadata": {},
   "outputs": [],
   "source": [
    "fs = 10e6\n",
    "ts = np.arange(0, 1.0, 1/fs)\n",
    "\n",
    "# f_minus2 = 10**(-75/20) * cn.powerlaw_psd_gaussian(2, len(ts))\n",
    "# f_minus1 = 10**(-95/20) * cn.powerlaw_psd_gaussian(1, len(ts))\n",
    "# f_zero = 10**(-80/20) * cn.powerlaw_psd_gaussian(0, len(ts))\n",
    "#ph_noise_ref_osc = 10**(60/20) * (f_minus2 + f_minus1 + f_zero)\n",
    "\n",
    "f_zero = 10**(-80/20) * cn.powerlaw_psd_gaussian(0, len(ts))\n",
    "f_zero_2 = 10**(10/20) * cn.powerlaw_psd_gaussian(0, len(ts))\n",
    "# bandpass f_zero_2 with a 1 kHz bandpass filter\n",
    "sos = scipy.signal.butter(1, [1, 10], btype='bandpass', fs=fs, output='sos')\n",
    "f_zero_2_filt = scipy.signal.sosfilt(sos, f_zero_2)\n",
    "ph_noise_ref_osc = f_zero_2_filt + f_zero\n",
    "\n",
    "ph_noise_clock = (fs/40e6) * ph_noise_ref_osc\n",
    "ph_noise_lo = (400e6/40e6) * ph_noise_ref_osc"
   ]
  },
  {
   "cell_type": "code",
   "execution_count": null,
   "metadata": {},
   "outputs": [],
   "source": [
    "nperseg = 2**17\n",
    "print(len(ts) / nperseg)\n",
    "fig, (ax1, ax2) = plot_signal(ts, ph_noise_ref_osc, sample_rate=fs, one_sided=True, log_scale=True, nperseg=nperseg, label=\"sum\")\n",
    "#plot_signal(ts, f_minus2, sample_rate=fs, one_sided=True, log_scale=True, nperseg=nperseg, ax1=ax1, ax2=ax2, label=\"f^-2\")\n",
    "#plot_signal(ts, f_minus1, sample_rate=fs, one_sided=True, log_scale=True, nperseg=nperseg, ax1=ax1, ax2=ax2, label=\"f^-1\")\n",
    "#plot_signal(ts, f_zero, sample_rate=fs, one_sided=True, log_scale=True, nperseg=nperseg, ax1=ax1, ax2=ax2, label=\"f^0\")\n",
    "\n",
    "ax1.legend(loc=\"upper right\"), ax2.legend(loc=\"upper right\")\n",
    "ax2.set_xlim([0.0001, 5])\n",
    "ax2.set_xticks([0.0001, 0.001, 0.01, 0.1, 1, 5])\n",
    "ax2.set_xticklabels([\"100 Hz\", \"1 kHz\", \"10 kHz\", \"100 kHz\", \"1 MHz\", \"5 MHz\"])\n",
    "ax2.set_ylim([-160, -50])\n",
    "\n",
    "ax2.scatter([0.0001, 0.001, 0.01, 0.1, 1, 5], np.array([-117, -137, -149,-151,-151,-151])+3, color='black', marker='x', zorder=10, label=\"Reference\")\n",
    "\n",
    "fig.tight_layout()"
   ]
  },
  {
   "cell_type": "code",
   "execution_count": null,
   "metadata": {},
   "outputs": [],
   "source": []
  },
  {
   "cell_type": "code",
   "execution_count": null,
   "metadata": {},
   "outputs": [],
   "source": [
    "reflection_distance = 2800 #0 # m (one-way)\n",
    "reflection_delay_time = 2 * reflection_distance / (scipy.constants.c / np.sqrt(3.17))\n",
    "reflection_delay_samples = int(fs * reflection_delay_time)"
   ]
  },
  {
   "cell_type": "code",
   "execution_count": null,
   "metadata": {},
   "outputs": [],
   "source": [
    "t_jitter = (ph_noise_clock[:-reflection_delay_samples] - ph_noise_clock[reflection_delay_samples:]) / (2 * np.pi * fs)"
   ]
  },
  {
   "cell_type": "code",
   "execution_count": null,
   "metadata": {},
   "outputs": [],
   "source": [
    "fix, (ax1, ax2) = plot_signal(ts[:-reflection_delay_samples], (ph_noise_clock[:-reflection_delay_samples] - ph_noise_clock[reflection_delay_samples:]), sample_rate=fs, one_sided=True, log_scale=True, nperseg=nperseg, label=\"ph_noise_clock (cancelled)\")\n",
    "plot_signal(ts[:-reflection_delay_samples], ph_noise_clock[:-reflection_delay_samples], sample_rate=fs, one_sided=True, log_scale=True, nperseg=nperseg, label=\"ph_noise_clock (one-way)\", ax1=ax1, ax2=ax2)\n",
    "plot_signal(ts[:-reflection_delay_samples], ph_noise_lo[:-reflection_delay_samples] - ph_noise_lo[reflection_delay_samples:], sample_rate=fs, one_sided=True, log_scale=True, nperseg=nperseg, ax1=ax1, ax2=ax2, label=\"ph_noise_lo (cancelled)\")\n",
    "plot_signal(ts[:-reflection_delay_samples], ph_noise_lo[:-reflection_delay_samples], sample_rate=fs, one_sided=True, log_scale=True, nperseg=nperseg, ax1=ax1, ax2=ax2, label=\"ph_noise_lo (one-way)\")\n",
    "ax2.legend()\n",
    "ax2.set_xlim([0.0001, 5])\n",
    "ax2.set_xticks([0.0001, 0.001, 0.01, 0.1, 1, 5])\n",
    "ax2.set_xticklabels([\"100 Hz\", \"1 kHz\", \"10 kHz\", \"100 kHz\", \"1 MHz\", \"5 MHz\"])\n",
    "fig.tight_layout()"
   ]
  },
  {
   "cell_type": "code",
   "execution_count": null,
   "metadata": {},
   "outputs": [],
   "source": [
    "config = {\n",
    "    'GENERATE':\n",
    "        {\n",
    "            'chirp_type': 'linear',\n",
    "            'sample_rate': fs,\n",
    "            'chirp_bandwidth': 5e6,\n",
    "            'window': \"rectangular\",\n",
    "            'chirp_length': 20e-6,\n",
    "            'pulse_length': 20e-6\n",
    "        }\n",
    "}\n",
    "expected_chirp_length = len(np.arange(0, (config['GENERATE']['chirp_length'])-(1/(2*config['GENERATE']['sample_rate'])), 1/(config['GENERATE']['sample_rate'])))\n",
    "\n",
    "pri = 50e-6\n",
    "n_chirps = int((len(ts)-reflection_delay_samples-1) // (pri * fs))\n",
    "chirps = np.zeros(shape=(n_chirps, int(fs*pri)), dtype=np.complex64)\n",
    "ts_chirp, reference_chirp = generate_chirp_with_jitter(config)\n",
    "print(f\"n_chirps: {n_chirps}, prf: {1/pri} Hz\")\n",
    "\n",
    "delay_samples = 200\n",
    "\n",
    "for i in range(n_chirps):\n",
    "    jitter_start_idx = int(i * (pri * fs))\n",
    "    # Generate chirps with jittered timestamps, simulating effects of DAC and ADC clock phase noise\n",
    "    ts_chirp, chirps[i, delay_samples:delay_samples+expected_chirp_length] = generate_chirp_with_jitter(config)#, t_jitter=t_jitter[jitter_start_idx:jitter_start_idx+expected_chirp_length])\n",
    "    # Add in phase contributions from TX and RX LOs\n",
    "    chirps[i, delay_samples:delay_samples+expected_chirp_length] *= np.exp(1j *\n",
    "                                                                           (ph_noise_lo[jitter_start_idx:jitter_start_idx+expected_chirp_length] -\n",
    "                                                                            0*ph_noise_lo[jitter_start_idx+reflection_delay_samples:jitter_start_idx+reflection_delay_samples+expected_chirp_length]))\n"
   ]
  },
  {
   "cell_type": "code",
   "execution_count": null,
   "metadata": {},
   "outputs": [],
   "source": [
    "n_stacks = np.append(np.logspace(0, int(np.log10(n_chirps)), 10*(int(np.log10(n_chirps))+1), dtype=int), int(n_chirps))\n",
    "peaks_lin_mean = np.zeros_like(n_stacks, dtype=np.float64)\n",
    "peaks_lin_std = np.zeros_like(n_stacks, dtype=np.float64)\n",
    "\n",
    "nstack_1_peak_phases = np.zeros(shape=(n_chirps,))\n",
    "\n",
    "for i, n_stack in enumerate(n_stacks):\n",
    "    peaks_lin = []\n",
    "    for start_idx in np.arange(0, n_chirps-n_stack+1, n_stack):\n",
    "        stacked = np.mean(chirps[start_idx:start_idx+n_stack, :], axis=0)\n",
    "        fast_time, compressed = pulse_compress(stacked, reference_chirp, fs)\n",
    "        peaks_lin.append(np.max(np.abs(compressed)))\n",
    "        if n_stack == 1:\n",
    "            nstack_1_peak_phases[start_idx] = np.angle(compressed[np.argmax(np.abs(compressed))])\n",
    "    #print(peaks_lin)\n",
    "    peaks_lin_mean[i] = np.mean(peaks_lin)\n",
    "    peaks_lin_std[i] = np.std(peaks_lin)\n",
    "\n",
    "#integration_time = n_stacks * pri"
   ]
  },
  {
   "cell_type": "code",
   "execution_count": null,
   "metadata": {},
   "outputs": [],
   "source": [
    "from matplotlib.ticker import EngFormatter\n",
    "\n",
    "effective_prf = 1/(n_stacks * pri)\n",
    "\n",
    "fig, ax = plt.subplots()\n",
    "ax.scatter(n_stacks, 20*np.log10(peaks_lin_mean))\n",
    "ax.set_xscale('log')\n",
    "\n",
    "ax.set_xscale('log')\n",
    "#ax.set_xlim(ax.get_xlim())\n",
    "x_n = np.logspace(0, int(np.log10(n_chirps)), (int(np.log10(n_chirps))+1), dtype=int)\n",
    "ax.set_xticks(x_n)\n",
    "ax.set_xlabel(\"Number of stacked chirps\")\n",
    "ax.set_xlim([1, 1000])\n",
    "\n",
    "ax_prf = ax.twiny()\n",
    "formatter0 = EngFormatter(unit='Hz')\n",
    "#ax_prf.xaxis.set_major_formatter(formatter0)\n",
    "ax_prf.set_xlabel(\"Effective Pulse Repetition Frequency\")\n",
    "ax_prf.set_xlim(1/(np.array(ax.get_xlim()) * pri))\n",
    "ax_prf.set_xscale('log')\n",
    "x_pri = 1/(x_n * pri)\n",
    "ax_prf.set_xticks(x_pri)\n",
    "ax_prf.set_xticklabels([f\"{formatter0(x)}\" for x in x_pri])\n",
    "\n",
    "ax.grid()\n",
    "\n",
    "plt.show()"
   ]
  },
  {
   "cell_type": "code",
   "execution_count": null,
   "metadata": {},
   "outputs": [],
   "source": [
    "fig, ax = plt.subplots()\n",
    "ax.scatter(np.arange(len(nstack_1_peak_phases)), nstack_1_peak_phases)\n",
    "ax.grid()\n",
    "fig.tight_layout()"
   ]
  },
  {
   "cell_type": "code",
   "execution_count": null,
   "metadata": {},
   "outputs": [],
   "source": []
  },
  {
   "cell_type": "code",
   "execution_count": null,
   "metadata": {},
   "outputs": [],
   "source": [
    "ph_noise_cancelled = ph_noise_sum[:-356] - ph_noise_sum[356:]\n",
    "fig, (ax1, ax2) = plot_signal(ts, ph_noise_sum, sample_rate=fs, one_sided=True, log_scale=True, nperseg=nperseg, label=\"sum\", time_delay=356/fs)\n",
    "plot_signal(ts[:-356], ph_noise_cancelled, sample_rate=fs, one_sided=True, log_scale=True, nperseg=nperseg, ax1=ax1, ax2=ax2, label=\"cancelled\")\n",
    "ax1.legend(), ax2.legend()\n",
    "ax2.set_xlim([0.0001, 5])\n",
    "ax2.set_ylim([-160, -100])\n",
    "\n",
    "ax2.scatter([0.0001, 0.001, 0.01, 0.1, 1, 5], np.array([-117, -137, -149,-151,-151,-151])+3, color='black', marker='x', zorder=10, label=\"Reference\")\n",
    "\n",
    "fig.tight_layout()"
   ]
  },
  {
   "cell_type": "code",
   "execution_count": null,
   "metadata": {},
   "outputs": [],
   "source": [
    "t_jitter = ph_noise_sum / (2 * np.pi * fs)"
   ]
  },
  {
   "cell_type": "code",
   "execution_count": null,
   "metadata": {},
   "outputs": [],
   "source": [
    "config = {\n",
    "    'GENERATE':\n",
    "        {\n",
    "            'chirp_type': 'linear',\n",
    "            'sample_rate': fs,\n",
    "            'chirp_bandwidth': 15e6,\n",
    "            'window': \"rectangular\",\n",
    "            'chirp_length': 20e-6,\n",
    "            'pulse_length': 20e-6\n",
    "        }\n",
    "}\n",
    "\n",
    "expected_chirp_length = len(np.arange(0, (config['GENERATE']['chirp_length'])-(1/(2*config['GENERATE']['sample_rate'])), 1/(config['GENERATE']['sample_rate'])))\n",
    "\n",
    "ts_chirp, chirp = generate_chirp_with_jitter(config, t_jitter=t_jitter[:expected_chirp_length])\n",
    "\n",
    "plot_signal(ts_chirp, chirp, sample_rate=config['GENERATE']['sample_rate'], one_sided=False, label=\"chirp\")"
   ]
  },
  {
   "cell_type": "code",
   "execution_count": null,
   "metadata": {},
   "outputs": [],
   "source": [
    "pri = 50e-6\n",
    "n_chirps = int(len(ts) // (pri * fs))\n",
    "chirps = np.zeros_like(chirp, shape=(n_chirps, int(fs*pri)))\n",
    "ts_chirp = None\n",
    "\n",
    "delay_samples = 200\n",
    "\n",
    "for i in range(n_chirps):\n",
    "    jitter_start_idx = int(i * (pri * fs))\n",
    "    ts_chirp, chirps[i, delay_samples:delay_samples+len(chirp)] = generate_chirp_with_jitter(config, t_jitter=t_jitter[jitter_start_idx:jitter_start_idx+expected_chirp_length])"
   ]
  },
  {
   "cell_type": "code",
   "execution_count": null,
   "metadata": {},
   "outputs": [],
   "source": [
    "n_stacks = np.array([1, 10, 100, 1000, n_chirps])\n",
    "peaks_lin = np.zeros_like(n_stacks, dtype=np.float64)\n",
    "\n",
    "for i, n_stack in enumerate(n_stacks):\n",
    "    stacked = np.mean(chirps[:n_stack], axis=0)\n",
    "    fast_time, compressed = pulse_compress(stacked, chirp, fs)\n",
    "    peaks_lin[i] = np.max(np.abs(compressed))\n",
    "\n",
    "fig, ax = plt.subplots()\n",
    "ax.scatter(n_stacks, 20*np.log10(peaks_lin))\n",
    "ax.set_xscale('log')\n",
    "ax.grid()\n",
    "plt.show()"
   ]
  },
  {
   "cell_type": "code",
   "execution_count": null,
   "metadata": {},
   "outputs": [],
   "source": [
    "stacked = np.mean(chirps[:1000,:], axis=0)\n",
    "\n",
    "fast_time, compressed = pulse_compress(stacked, chirp, fs)\n",
    "\n",
    "fig, ax = plt.subplots()\n",
    "ax.plot(fast_time, np.abs(compressed))\n"
   ]
  },
  {
   "cell_type": "code",
   "execution_count": null,
   "metadata": {},
   "outputs": [],
   "source": [
    "10*np.log10(0.2**2/4)"
   ]
  },
  {
   "cell_type": "code",
   "execution_count": null,
   "metadata": {},
   "outputs": [],
   "source": [
    "example_signal = np.sin(2*np.pi*10e6*ts_chirp)# + 0.2*np.sin(2*np.pi*0.5e6*ts_chirp))\n",
    "fig, (ax1, ax2) = plot_signal(ts_chirp, example_signal, sample_rate=fs, one_sided=True)\n",
    "#ax2.set_ylim(-80, -40)"
   ]
  },
  {
   "cell_type": "code",
   "execution_count": null,
   "metadata": {},
   "outputs": [],
   "source": []
  },
  {
   "cell_type": "code",
   "execution_count": null,
   "metadata": {},
   "outputs": [],
   "source": [
    "stacked.shape"
   ]
  },
  {
   "cell_type": "code",
   "execution_count": null,
   "metadata": {},
   "outputs": [],
   "source": [
    "1\t-75\n",
    "10\t-110\n",
    "100\t-132\n",
    "1000\t-142\n",
    "10000\t-145\n",
    "100000\t-150\n"
   ]
  },
  {
   "cell_type": "code",
   "execution_count": null,
   "metadata": {},
   "outputs": [],
   "source": [
    "np.stack([phase_noise_filter_freqs[:-1], phase_noise_filter_freqs[1:]]).T, np.stack([phase_noise_filter_amplitude[:-1], phase_noise_filter_amplitude[1:]]).T"
   ]
  },
  {
   "cell_type": "code",
   "execution_count": null,
   "metadata": {},
   "outputs": [],
   "source": [
    "phase_noise_filter_freqs = np.array(   [0,  10, 100, 1000, config['GENERATE']['sample_rate']/2]) # Hz\n",
    "phase_noise_filter_power_db = np.array([0, -50, -80, -100, -100]) # dBc/Hz\n",
    "\n",
    "phase_noise_filter_freqs = np.array(   [0,  1, 10, 100, 1000, config['GENERATE']['sample_rate']/2]) # Hz\n",
    "phase_noise_filter_power_db = np.array([0, -10, -20, -30, -40, -50]) # dBc/Hz\n",
    "\n",
    "phase_noise_filter_amplitude = 10**(phase_noise_filter_power_db/20)\n",
    "\n",
    "#taps = scipy.signal.firwin2(10001, phase_noise_filter_freqs, phase_noise_filter_amplitude, antisymmetric=False, fs=config['GENERATE']['sample_rate'])\n",
    "\n",
    "taps = scipy.signal.firls(10001,\n",
    "                          np.stack([phase_noise_filter_freqs[:-1], phase_noise_filter_freqs[1:]]).T,\n",
    "                          np.stack([phase_noise_filter_amplitude[:-1], phase_noise_filter_amplitude[1:]]).T,\n",
    "                          #weight=[1, 1, 0.1, 0.00001],\n",
    "                          fs = config['GENERATE']['sample_rate'])"
   ]
  },
  {
   "cell_type": "code",
   "execution_count": null,
   "metadata": {},
   "outputs": [],
   "source": [
    "fig, ax = plt.subplots()\n",
    "w, h = scipy.signal.freqz(taps, fs=config['GENERATE']['sample_rate'], worN=100000)\n",
    "\n",
    "ax.plot(w, 20 * np.log10(np.abs(h)))\n",
    "ax.set_xscale('log')  # Set x-axis to log scale\n",
    "ax.set_xlabel('Frequency [Hz]')\n",
    "ax.set_ylabel('Magnitude [dB]')\n",
    "ax.set_title('Frequency Response')\n",
    "ax.scatter(phase_noise_filter_freqs, phase_noise_filter_power_db, color='red')\n",
    "ax.set_xlim([1, 10e6])\n",
    "ax.grid(True)\n",
    "plt.show()\n"
   ]
  },
  {
   "cell_type": "code",
   "execution_count": null,
   "metadata": {},
   "outputs": [],
   "source": [
    "import numpy as np\n",
    "import matplotlib.pyplot as plt\n",
    "\n",
    "# Generate white noise\n",
    "sample_rate = 1000  # Sample rate in Hz\n",
    "duration = 1  # Duration in seconds\n",
    "num_samples = sample_rate * duration\n",
    "white_noise = np.random.randn(num_samples)\n",
    "\n",
    "# Apply power-law filter to convert to 1/f noise\n",
    "frequencies = np.fft.fftfreq(num_samples, d=1/sample_rate)\n",
    "amplitudes = 1 / np.abs(frequencies)\n",
    "filtered_noise = np.fft.ifft(np.fft.fft(white_noise) * amplitudes).real\n",
    "\n",
    "# Plot the frequency response\n",
    "plt.figure()\n",
    "plt.magnitude_spectrum(filtered_noise, Fs=sample_rate, scale='dB')\n",
    "plt.xlabel('Frequency (Hz)')\n",
    "plt.ylabel('Magnitude (dB)')\n",
    "plt.title('Frequency Response')\n",
    "plt.grid(True)\n",
    "plt.show()\n"
   ]
  },
  {
   "cell_type": "code",
   "execution_count": null,
   "metadata": {},
   "outputs": [],
   "source": [
    "config['GENERATE']['sample_rate'] / 1e6"
   ]
  },
  {
   "cell_type": "code",
   "execution_count": null,
   "metadata": {},
   "outputs": [],
   "source": [
    "tmp = cn.powerlaw_psd_gaussian(2, len(sig))\n",
    "y = tmp\n",
    "plot_signal(ts, y, one_sided=True, log_scale=True)"
   ]
  },
  {
   "cell_type": "code",
   "execution_count": null,
   "metadata": {},
   "outputs": [],
   "source": [
    "beta = 1 # the exponent\n",
    "samples = 2**18 # number of samples to generate\n",
    "y = cn.powerlaw_psd_gaussian(beta, samples)\n",
    "\n",
    "# optionally plot the Power Spectral Density with Matplotlib\n",
    "from matplotlib import mlab\n",
    "from matplotlib import pylab as plt\n",
    "#s, f = mlab.psd(y, NFFT=2**13)\n",
    "f, s = scipy.signal.welch(y)\n",
    "#plt.loglog(f,s)\n",
    "plt.semilogx(f, 20*np.log10(np.abs(s)))\n",
    "plt.grid(True)\n",
    "plt.show()"
   ]
  },
  {
   "cell_type": "code",
   "execution_count": null,
   "metadata": {},
   "outputs": [],
   "source": [
    "plot_signal(np.linspace(0,1,len(y)), y)"
   ]
  },
  {
   "cell_type": "code",
   "execution_count": null,
   "metadata": {},
   "outputs": [],
   "source": []
  },
  {
   "cell_type": "code",
   "execution_count": null,
   "metadata": {},
   "outputs": [],
   "source": [
    "# Generate phase noise samples from sum of 1/f^2 , 1/f, and white noise\n",
    "# Convert phase noise samples to time jitter by (1/f_adc) * ph / (2*pi)\n",
    "# Generate chirp phase profiles according to time jitter"
   ]
  }
 ],
 "metadata": {
  "kernelspec": {
   "display_name": "rg2",
   "language": "python",
   "name": "python3"
  },
  "language_info": {
   "codemirror_mode": {
    "name": "ipython",
    "version": 3
   },
   "file_extension": ".py",
   "mimetype": "text/x-python",
   "name": "python",
   "nbconvert_exporter": "python",
   "pygments_lexer": "ipython3",
   "version": "3.11.3"
  }
 },
 "nbformat": 4,
 "nbformat_minor": 2
}
