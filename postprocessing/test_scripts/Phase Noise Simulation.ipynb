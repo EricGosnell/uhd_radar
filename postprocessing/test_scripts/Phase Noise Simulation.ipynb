{
 "cells": [
  {
   "cell_type": "code",
   "execution_count": null,
   "metadata": {},
   "outputs": [],
   "source": [
    "%load_ext autoreload\n",
    "%autoreload 2"
   ]
  },
  {
   "cell_type": "code",
   "execution_count": null,
   "metadata": {},
   "outputs": [],
   "source": [
    "import os\n",
    "import copy\n",
    "import sys\n",
    "import xarray as xr\n",
    "import numpy as np\n",
    "import dask.array as da\n",
    "\n",
    "import matplotlib.pyplot as plt\n",
    "import hvplot.xarray\n",
    "import scipy.constants\n",
    "\n",
    "sys.path.append(\"..\")\n",
    "import processing_dask as pr\n",
    "import plot_dask\n",
    "import processing as old_processing\n",
    "\n",
    "import colorednoise as cn\n",
    "\n",
    "sys.path.append(\"../../preprocessing/\")\n",
    "#from generate_chirp import generate_chirp\n",
    "\n",
    "sys.path.append(\"..\")\n",
    "from processing import pulse_compress"
   ]
  },
  {
   "cell_type": "code",
   "execution_count": null,
   "metadata": {},
   "outputs": [],
   "source": [
    "def generate_chirp_with_jitter(config, t_jitter=0):\n",
    "    \"\"\"\n",
    "    Generate a chirp according to parameters in the config dictionary, typically\n",
    "    loaded from a config YAML file.\n",
    "\n",
    "    Returns a tuple (ts, chirp_complex), where ts is a numpy array of time\n",
    "    samples, and chirp_complex is a numpy array of complex floating point values\n",
    "    representing the chirp.\n",
    "\n",
    "    If you're looking for a floating point valued chirp to use in convolution,\n",
    "    this is probably the right function.\n",
    "\n",
    "    This function does not convert the complex numpy array to the cpu format\n",
    "    expected by the radar code. If you want to produce samples to feed the radar\n",
    "    code, look at `generate_from_yaml_filename` (later in this file) instead.\n",
    "    \"\"\"\n",
    "    # Load parameters\n",
    "    gen_params = config[\"GENERATE\"]\n",
    "    chirp_type = gen_params[\"chirp_type\"]\n",
    "    sample_rate = gen_params[\"sample_rate\"]\n",
    "    chirp_bandwidth = gen_params[\"chirp_bandwidth\"]\n",
    "    offset = gen_params.get(\"lo_offset_sw\", 0)\n",
    "    window = gen_params[\"window\"]\n",
    "    chirp_length = gen_params[\"chirp_length\"]\n",
    "    pulse_length = gen_params.get(\"pulse_length\", chirp_length) # default to chirp_length is no pulse_length is specified\n",
    "\n",
    "    # Build chirp\n",
    "\n",
    "    end_freq = chirp_bandwidth / 2 # Chirp goes from -BW/2 to BW/2\n",
    "    start_freq = -1 * end_freq\n",
    "\n",
    "    start_freq += offset\n",
    "    end_freq += offset\n",
    "\n",
    "    ts = np.arange(0, chirp_length-(1/(2*sample_rate)), 1/(sample_rate)) + t_jitter\n",
    "    ts_zp = np.arange(0, (pulse_length)-(1/(2*sample_rate)), 1/(sample_rate))\n",
    "\n",
    "    if chirp_type == 'linear':\n",
    "        ph = 2*np.pi*((start_freq)*ts + (end_freq - start_freq) * ts**2 / (2*chirp_length))\n",
    "    elif chirp_type == 'hyperbolic':\n",
    "        ph = 2*np.pi*(-1*start_freq*end_freq*chirp_length/(end_freq-start_freq))*np.log(1- (end_freq-start_freq)*ts/(end_freq*chirp_length))\n",
    "    else:\n",
    "        ph = 2*np.pi*(start_freq*ts + (end_freq - start_freq) * ts**2 / (2*chirp_length))\n",
    "        printf(\"[ERROR] Unrecognized chirp type '{chirp_type}'\")\n",
    "        return None, None\n",
    "\n",
    "    chirp_complex = np.exp(1j*ph)\n",
    "\n",
    "    if window == \"blackman\":\n",
    "        chirp_complex = chirp_complex * np.blackman(chirp_complex.size)\n",
    "    elif window == \"hamming\":\n",
    "        chirp_complex = chirp_complex * np.hamming(chirp_complex.size)\n",
    "    elif window == \"kaiser14\":\n",
    "        chirp_complex = chirp_complex * np.kaiser(chirp_complex.size, 14.0)\n",
    "    elif window == \"kaiser10\":\n",
    "        chirp_complex = chirp_complex * np.kaiser(chirp_complex.size, 10.0)\n",
    "    elif window == \"kaiser18\": \n",
    "        chirp_complex = chirp_complex * np.kaiser(chirp_complex.size, 18.0)\n",
    "    elif window != \"rectangular\":\n",
    "        print(\"[ERROR] Unrecognized window function '{window}'\")\n",
    "        return None, None\n",
    "\n",
    "    chirp_complex = np.pad(chirp_complex, (int(np.floor(ts_zp.size - ts.size)/2),), 'constant')\n",
    "\n",
    "    chirp_complex = chirp_complex\n",
    "\n",
    "    return ts_zp, chirp_complex\n"
   ]
  },
  {
   "cell_type": "code",
   "execution_count": null,
   "metadata": {},
   "outputs": [],
   "source": [
    "def plot_signal(ts, sig, sample_rate, one_sided=False, log_scale=False, nperseg=2**10, ax1=None, ax2=None, label=\"\", alpha=1.0):\n",
    "    if ax1 is None or ax2 is None:\n",
    "        fig, (ax1, ax2) = plt.subplots(1, 2, figsize=(12, 4))\n",
    "        fig.tight_layout()\n",
    "    else:\n",
    "        fig = None\n",
    "\n",
    "    # Plot in the time domain\n",
    "    ax1.plot(ts * 1e6, np.real(sig), label=label+\" [real]\", alpha=alpha)\n",
    "    if not one_sided:\n",
    "        ax1.plot(ts * 1e6, np.imag(sig), label=label+\" [imag]\", alpha=alpha)\n",
    "    ax1.set_xlabel('Time [us]')\n",
    "    ax1.set_ylabel('Amplitude')\n",
    "    ax1.set_title('Time Domain')\n",
    "    ax1.grid(True)\n",
    "\n",
    "    # Plot in the frequency domain\n",
    "    freq, spectrum = scipy.signal.welch(sig, fs=sample_rate, nperseg=nperseg, return_onesided=one_sided, detrend=False, window='rectangular', scaling='density')\n",
    "    \n",
    "    # if one_sided:\n",
    "    #     freq = np.fft.rfftfreq(len(sig[:]), d=1/sample_rate)\n",
    "    #     spectrum = np.fft.rfft(sig)\n",
    "    # else:\n",
    "    #     freq = np.fft.fftfreq(len(sig), d=1/sample_rate)\n",
    "    #     spectrum = np.fft.fft(sig)\n",
    "    \n",
    "    if not one_sided:\n",
    "        freq = np.fft.fftshift(freq)\n",
    "        spectrum = np.fft.fftshift(spectrum)\n",
    "    #freq = np.fft.fftshift(np.fft.fftfreq(len(sig), d=1/sample_rate))\n",
    "    #spectrum = np.fft.fftshift(np.fft.fft(sig))\n",
    "    ax2.plot(freq / 1e6, 10*np.log10(np.abs(spectrum)), label=label, alpha=alpha)\n",
    "    if log_scale:\n",
    "        ax2.set_xscale('log')\n",
    "        ax2.set_xlim([0.01, None])\n",
    "        if not one_sided:\n",
    "            raise ValueError(\"Can't use log scale with two-sided spectrum\")\n",
    "    ax2.set_xlabel('Frequency [MHz]')\n",
    "    ax2.set_ylabel('Power [dB]')\n",
    "    ax2.set_title('Frequency Domain')\n",
    "    ax2.grid(True)\n",
    "\n",
    "    return fig, (ax1, ax2)\n"
   ]
  },
  {
   "cell_type": "code",
   "execution_count": null,
   "metadata": {},
   "outputs": [],
   "source": [
    "def noise_f_minus2(N, psd = lambda f: 1/np.where(f == 0, float('inf'), f)):\n",
    "        X_white = np.fft.rfft(np.random.randn(N));\n",
    "        S = psd(np.fft.rfftfreq(N))\n",
    "        # Normalize S\n",
    "        S = S / np.sqrt(np.mean(S**2))\n",
    "        X_shaped = X_white * S;\n",
    "        return np.fft.irfft(X_shaped);"
   ]
  },
  {
   "cell_type": "code",
   "execution_count": null,
   "metadata": {},
   "outputs": [],
   "source": []
  },
  {
   "cell_type": "code",
   "execution_count": null,
   "metadata": {},
   "outputs": [],
   "source": [
    "fs = 10e6\n",
    "ts = np.arange(0, 1.0, 1/fs)\n",
    "\n",
    "gain_db = 20\n",
    "f_minus2 = 10**(gain_db/20) * cn.powerlaw_psd_gaussian(0, len(ts))\n",
    "#f_minus2 = noise_f_minus2(len(ts))\n",
    "\n",
    "#f_minus1 = 10**(-30/20) * cn.powerlaw_psd_gaussian(1, len(ts))\n",
    "#f_zero = 10**(-35/20) * cn.powerlaw_psd_gaussian(0, len(ts))\n",
    "#ph_noise_sum = (f_minus2 + f_minus1 + f_zero)"
   ]
  },
  {
   "cell_type": "code",
   "execution_count": null,
   "metadata": {},
   "outputs": [],
   "source": [
    "len(f_minus2) / nperseg"
   ]
  },
  {
   "cell_type": "code",
   "execution_count": null,
   "metadata": {},
   "outputs": [],
   "source": [
    "nperseg = 2**16\n",
    "fig, (ax1, ax2) = plot_signal(ts, f_minus2, sample_rate=fs, one_sided=True, log_scale=True, nperseg=nperseg, label=f\"sum [{np.max(ts):.2f} s, gain {gain_db:.1f} dB]\")\n",
    "for i in range(np.minimum(len(f_minus2) // nperseg, 3)):\n",
    "    plot_signal(ts[i*nperseg:(i+1)*nperseg], f_minus2[i*nperseg:(i+1)*nperseg], sample_rate=fs, one_sided=True, log_scale=True, nperseg=nperseg, ax1=ax1, ax2=ax2, alpha=0.2)\n",
    "ax1.legend(), ax2.legend()\n",
    "ax2.set_xlim([0.0001, None])\n",
    "ax2.set_ylim([-100, 0])\n",
    "fig.tight_layout()\n"
   ]
  },
  {
   "cell_type": "code",
   "execution_count": null,
   "metadata": {},
   "outputs": [],
   "source": [
    "for t_max in [0.001, 0.01, 0.1001]:\n",
    "    ts = np.arange(0, t_max, 1/fs)\n",
    "\n",
    "    #f_minus2 = 10**(0/20) * cn.powerlaw_psd_gaussian(2, len(ts))\n",
    "    f_minus2 = noise_f_minus2(len(ts))\n",
    "\n",
    "    plot_signal(ts, f_minus2, sample_rate=fs, one_sided=True, log_scale=True, nperseg=nperseg, label=f\"sum [{t_max} s]\", ax1=ax1, ax2=ax2, alpha=0.8)\n",
    "\n",
    "fig.tight_layout()\n",
    "ax2.set_ylim([-100, -20])\n",
    "ax1.legend(), ax2.legend()\n",
    "fig"
   ]
  },
  {
   "cell_type": "code",
   "execution_count": null,
   "metadata": {},
   "outputs": [],
   "source": [
    "ax2.set_ylim(-90, -10)\n",
    "fig"
   ]
  },
  {
   "cell_type": "code",
   "execution_count": null,
   "metadata": {},
   "outputs": [],
   "source": [
    "nperseg = 2**15\n",
    "fig, (ax1, ax2) = plot_signal(ts, f_minus2, sample_rate=fs, one_sided=True, log_scale=True, nperseg=nperseg, label=\"f^-2\")\n",
    "plot_signal(ts, f_minus1, sample_rate=fs, one_sided=True, log_scale=True, nperseg=nperseg, ax1=ax1, ax2=ax2, label=\"f^-1\")\n",
    "plot_signal(ts, f_zero, sample_rate=fs, one_sided=True, log_scale=True, nperseg=nperseg, ax1=ax1, ax2=ax2, label=\"f^0\")\n",
    "plot_signal(ts, ph_noise_sum, sample_rate=fs, one_sided=True, log_scale=True, nperseg=nperseg, ax1=ax1, ax2=ax2, label=\"sum\")\n",
    "ax1.legend(), ax2.legend()\n",
    "fig.tight_layout()"
   ]
  },
  {
   "cell_type": "code",
   "execution_count": null,
   "metadata": {},
   "outputs": [],
   "source": [
    "ph_noise_sum[100:].shape"
   ]
  },
  {
   "cell_type": "code",
   "execution_count": null,
   "metadata": {},
   "outputs": [],
   "source": [
    "ph_noise_cancelled = ph_noise_sum[:-100] - ph_noise_sum[100:]\n",
    "fig, (ax1, ax2) = plot_signal(ts, ph_noise_sum, sample_rate=fs, one_sided=True, log_scale=True, nperseg=nperseg, label=\"sum\")\n",
    "plot_signal(ts[:-100], ph_noise_cancelled, sample_rate=fs, one_sided=True, log_scale=True, nperseg=nperseg, ax1=ax1, ax2=ax2, label=\"cancelled\")\n",
    "ax1.legend(), ax2.legend()\n",
    "fig.tight_layout()"
   ]
  },
  {
   "cell_type": "code",
   "execution_count": null,
   "metadata": {},
   "outputs": [],
   "source": [
    "t_jitter = ph_noise_sum / (2 * np.pi * fs)"
   ]
  },
  {
   "cell_type": "code",
   "execution_count": null,
   "metadata": {},
   "outputs": [],
   "source": [
    "config = {\n",
    "    'GENERATE':\n",
    "        {\n",
    "            'chirp_type': 'linear',\n",
    "            'sample_rate': fs,\n",
    "            'chirp_bandwidth': 15e6,\n",
    "            'window': \"rectangular\",\n",
    "            'chirp_length': 20e-6,\n",
    "            'pulse_length': 20e-6\n",
    "        }\n",
    "}\n",
    "\n",
    "expected_chirp_length = len(np.arange(0, (config['GENERATE']['chirp_length'])-(1/(2*config['GENERATE']['sample_rate'])), 1/(config['GENERATE']['sample_rate'])))\n",
    "\n",
    "ts_chirp, chirp = generate_chirp_with_jitter(config, t_jitter=t_jitter[:expected_chirp_length])\n",
    "\n",
    "plot_signal(ts_chirp, chirp, sample_rate=config['GENERATE']['sample_rate'], one_sided=False, label=\"chirp\")"
   ]
  },
  {
   "cell_type": "code",
   "execution_count": null,
   "metadata": {},
   "outputs": [],
   "source": [
    "pri = 50e-6\n",
    "n_chirps = int(len(ts) // (pri * fs))\n",
    "chirps = np.zeros_like(chirp, shape=(n_chirps, int(fs*pri)))\n",
    "ts_chirp = None\n",
    "\n",
    "delay_samples = 200\n",
    "\n",
    "for i in range(n_chirps):\n",
    "    jitter_start_idx = int(i * (pri * fs))\n",
    "    ts_chirp, chirps[i, delay_samples:delay_samples+len(chirp)] = generate_chirp_with_jitter(config, t_jitter=t_jitter[jitter_start_idx:jitter_start_idx+expected_chirp_length])"
   ]
  },
  {
   "cell_type": "code",
   "execution_count": null,
   "metadata": {},
   "outputs": [],
   "source": [
    "n_stacks = np.array([1, 10, 100, 1000, n_chirps])\n",
    "peaks_lin = np.zeros_like(n_stacks, dtype=np.float64)\n",
    "\n",
    "for i, n_stack in enumerate(n_stacks):\n",
    "    stacked = np.mean(chirps[:n_stack], axis=0)\n",
    "    fast_time, compressed = pulse_compress(stacked, chirp, fs)\n",
    "    peaks_lin[i] = np.max(np.abs(compressed))\n",
    "\n",
    "fig, ax = plt.subplots()\n",
    "ax.scatter(n_stacks, 20*np.log10(peaks_lin))\n",
    "ax.set_xscale('log')\n",
    "ax.grid()\n",
    "plt.show()"
   ]
  },
  {
   "cell_type": "code",
   "execution_count": null,
   "metadata": {},
   "outputs": [],
   "source": [
    "stacked = np.mean(chirps[:1000,:], axis=0)\n",
    "\n",
    "fast_time, compressed = pulse_compress(stacked, chirp, fs)\n",
    "\n",
    "fig, ax = plt.subplots()\n",
    "ax.plot(fast_time, np.abs(compressed))\n"
   ]
  },
  {
   "cell_type": "code",
   "execution_count": null,
   "metadata": {},
   "outputs": [],
   "source": [
    "10*np.log10(0.2**2/4)"
   ]
  },
  {
   "cell_type": "code",
   "execution_count": null,
   "metadata": {},
   "outputs": [],
   "source": [
    "example_signal = np.sin(2*np.pi*10e6*ts_chirp)# + 0.2*np.sin(2*np.pi*0.5e6*ts_chirp))\n",
    "fig, (ax1, ax2) = plot_signal(ts_chirp, example_signal, sample_rate=fs, one_sided=True)\n",
    "#ax2.set_ylim(-80, -40)"
   ]
  },
  {
   "cell_type": "code",
   "execution_count": null,
   "metadata": {},
   "outputs": [],
   "source": []
  },
  {
   "cell_type": "code",
   "execution_count": null,
   "metadata": {},
   "outputs": [],
   "source": [
    "stacked.shape"
   ]
  },
  {
   "cell_type": "code",
   "execution_count": null,
   "metadata": {},
   "outputs": [],
   "source": [
    "1\t-75\n",
    "10\t-110\n",
    "100\t-132\n",
    "1000\t-142\n",
    "10000\t-145\n",
    "100000\t-150\n"
   ]
  },
  {
   "cell_type": "code",
   "execution_count": null,
   "metadata": {},
   "outputs": [],
   "source": [
    "np.stack([phase_noise_filter_freqs[:-1], phase_noise_filter_freqs[1:]]).T, np.stack([phase_noise_filter_amplitude[:-1], phase_noise_filter_amplitude[1:]]).T"
   ]
  },
  {
   "cell_type": "code",
   "execution_count": null,
   "metadata": {},
   "outputs": [],
   "source": [
    "phase_noise_filter_freqs = np.array(   [0,  10, 100, 1000, config['GENERATE']['sample_rate']/2]) # Hz\n",
    "phase_noise_filter_power_db = np.array([0, -50, -80, -100, -100]) # dBc/Hz\n",
    "\n",
    "phase_noise_filter_freqs = np.array(   [0,  1, 10, 100, 1000, config['GENERATE']['sample_rate']/2]) # Hz\n",
    "phase_noise_filter_power_db = np.array([0, -10, -20, -30, -40, -50]) # dBc/Hz\n",
    "\n",
    "phase_noise_filter_amplitude = 10**(phase_noise_filter_power_db/20)\n",
    "\n",
    "#taps = scipy.signal.firwin2(10001, phase_noise_filter_freqs, phase_noise_filter_amplitude, antisymmetric=False, fs=config['GENERATE']['sample_rate'])\n",
    "\n",
    "taps = scipy.signal.firls(10001,\n",
    "                          np.stack([phase_noise_filter_freqs[:-1], phase_noise_filter_freqs[1:]]).T,\n",
    "                          np.stack([phase_noise_filter_amplitude[:-1], phase_noise_filter_amplitude[1:]]).T,\n",
    "                          #weight=[1, 1, 0.1, 0.00001],\n",
    "                          fs = config['GENERATE']['sample_rate'])"
   ]
  },
  {
   "cell_type": "code",
   "execution_count": null,
   "metadata": {},
   "outputs": [],
   "source": [
    "fig, ax = plt.subplots()\n",
    "w, h = scipy.signal.freqz(taps, fs=config['GENERATE']['sample_rate'], worN=100000)\n",
    "\n",
    "ax.plot(w, 20 * np.log10(np.abs(h)))\n",
    "ax.set_xscale('log')  # Set x-axis to log scale\n",
    "ax.set_xlabel('Frequency [Hz]')\n",
    "ax.set_ylabel('Magnitude [dB]')\n",
    "ax.set_title('Frequency Response')\n",
    "ax.scatter(phase_noise_filter_freqs, phase_noise_filter_power_db, color='red')\n",
    "ax.set_xlim([1, 10e6])\n",
    "ax.grid(True)\n",
    "plt.show()\n"
   ]
  },
  {
   "cell_type": "code",
   "execution_count": null,
   "metadata": {},
   "outputs": [],
   "source": [
    "import numpy as np\n",
    "import matplotlib.pyplot as plt\n",
    "\n",
    "# Generate white noise\n",
    "sample_rate = 1000  # Sample rate in Hz\n",
    "duration = 1  # Duration in seconds\n",
    "num_samples = sample_rate * duration\n",
    "white_noise = np.random.randn(num_samples)\n",
    "\n",
    "# Apply power-law filter to convert to 1/f noise\n",
    "frequencies = np.fft.fftfreq(num_samples, d=1/sample_rate)\n",
    "amplitudes = 1 / np.abs(frequencies)\n",
    "filtered_noise = np.fft.ifft(np.fft.fft(white_noise) * amplitudes).real\n",
    "\n",
    "# Plot the frequency response\n",
    "plt.figure()\n",
    "plt.magnitude_spectrum(filtered_noise, Fs=sample_rate, scale='dB')\n",
    "plt.xlabel('Frequency (Hz)')\n",
    "plt.ylabel('Magnitude (dB)')\n",
    "plt.title('Frequency Response')\n",
    "plt.grid(True)\n",
    "plt.show()\n"
   ]
  },
  {
   "cell_type": "code",
   "execution_count": null,
   "metadata": {},
   "outputs": [],
   "source": [
    "config['GENERATE']['sample_rate'] / 1e6"
   ]
  },
  {
   "cell_type": "code",
   "execution_count": null,
   "metadata": {},
   "outputs": [],
   "source": [
    "tmp = cn.powerlaw_psd_gaussian(2, len(sig))\n",
    "y = tmp\n",
    "plot_signal(ts, y, one_sided=True, log_scale=True)"
   ]
  },
  {
   "cell_type": "code",
   "execution_count": null,
   "metadata": {},
   "outputs": [],
   "source": [
    "beta = 1 # the exponent\n",
    "samples = 2**18 # number of samples to generate\n",
    "y = cn.powerlaw_psd_gaussian(beta, samples)\n",
    "\n",
    "# optionally plot the Power Spectral Density with Matplotlib\n",
    "from matplotlib import mlab\n",
    "from matplotlib import pylab as plt\n",
    "#s, f = mlab.psd(y, NFFT=2**13)\n",
    "f, s = scipy.signal.welch(y)\n",
    "#plt.loglog(f,s)\n",
    "plt.semilogx(f, 20*np.log10(np.abs(s)))\n",
    "plt.grid(True)\n",
    "plt.show()"
   ]
  },
  {
   "cell_type": "code",
   "execution_count": null,
   "metadata": {},
   "outputs": [],
   "source": [
    "plot_signal(np.linspace(0,1,len(y)), y)"
   ]
  },
  {
   "cell_type": "code",
   "execution_count": null,
   "metadata": {},
   "outputs": [],
   "source": []
  },
  {
   "cell_type": "code",
   "execution_count": null,
   "metadata": {},
   "outputs": [],
   "source": [
    "# Generate phase noise samples from sum of 1/f^2 , 1/f, and white noise\n",
    "# Convert phase noise samples to time jitter by (1/f_adc) * ph / (2*pi)\n",
    "# Generate chirp phase profiles according to time jitter"
   ]
  }
 ],
 "metadata": {
  "kernelspec": {
   "display_name": "rg2",
   "language": "python",
   "name": "python3"
  },
  "language_info": {
   "codemirror_mode": {
    "name": "ipython",
    "version": 3
   },
   "file_extension": ".py",
   "mimetype": "text/x-python",
   "name": "python",
   "nbconvert_exporter": "python",
   "pygments_lexer": "ipython3",
   "version": "3.11.3"
  }
 },
 "nbformat": 4,
 "nbformat_minor": 2
}
