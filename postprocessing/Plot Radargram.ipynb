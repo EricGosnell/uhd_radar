{
 "cells": [
  {
   "cell_type": "code",
   "execution_count": null,
   "id": "644e9bef",
   "metadata": {},
   "outputs": [],
   "source": [
    "import sys\n",
    "import argparse\n",
    "import numpy as np\n",
    "import scipy.signal as sp\n",
    "import processing as pr\n",
    "import matplotlib.pyplot as plt\n",
    "from ruamel.yaml import YAML as ym\n",
    "\n",
    "sys.path.append(\"../preprocessing\")\n",
    "from generate_chirp import generate_chirp\n",
    "\n",
    "# Widgets are only needed if you want to use the interactive plot at the end\n",
    "# Installation instructions: https://ipywidgets.readthedocs.io/en/latest/user_install.html\n",
    "#import ipywidgets as widgets"
   ]
  },
  {
   "cell_type": "code",
   "execution_count": null,
   "id": "26265095",
   "metadata": {},
   "outputs": [],
   "source": [
    "# == Use this to plot the last recorded data ==\n",
    "# yaml_file = \"../config/default.yaml\"\n",
    "# bin_file = \"../data/rx_samps.bin\"\n",
    "\n",
    "# == Or this to plot saved data ==\n",
    "prefix = \"../data/20211110_142243\"\n",
    "yaml_file = prefix + \"_config.yaml\"\n",
    "bin_file = prefix + \"_rx_samps.bin\"\n",
    "\n",
    "n_stack = 1 # Do additional stacking in this notebook - set > 1 to enable"
   ]
  },
  {
   "cell_type": "code",
   "execution_count": null,
   "id": "5c374405",
   "metadata": {},
   "outputs": [],
   "source": [
    "# Initialize Constants\n",
    "yaml = ym()\n",
    "with open(yaml_file) as stream:\n",
    "    config = yaml.load(stream)\n",
    "    rx_params = config[\"PLOT\"]\n",
    "    sample_rate = rx_params[\"sample_rate\"]    # Hertz\n",
    "    rx_samps = bin_file # TODO\n",
    "    orig_ch = rx_params[\"orig_chirp\"]         # Chirp associated with the received data\n",
    "    direct_start = rx_params[\"direct_start\"]\n",
    "    echo_start = rx_params[\"echo_start\"]\n",
    "    sig_speed = rx_params[\"sig_speed\"]\n",
    "\n",
    "    expected_n_rxs = int(config['CHIRP']['num_pulses'] / config['CHIRP']['num_presums'])\n",
    "    \n",
    "    rx_len_samples = int(config['CHIRP']['rx_duration'] * config['GENERATE']['sample_rate'])"
   ]
  },
  {
   "cell_type": "code",
   "execution_count": null,
   "id": "7b880b04",
   "metadata": {},
   "outputs": [],
   "source": [
    "# Read and plot RX/TX\n",
    "# This cell loads all of the data - it can take a while with a large file. You don't need to re-run this cell if you only change n_stack\n",
    "_, tx_sig = generate_chirp(config)\n",
    "pr.plotChirpVsTime(tx_sig, 'Transmitted Chirp', sample_rate)\n",
    "print(f\"len(tx_sig): {len(tx_sig)}\")\n",
    "\n",
    "rx_sig = pr.extractSig(rx_samps)"
   ]
  },
  {
   "cell_type": "code",
   "execution_count": null,
   "id": "7c9ac58f",
   "metadata": {},
   "outputs": [],
   "source": [
    "# Coherent stacking\n",
    "\n",
    "n_rxs = len(rx_sig) // rx_len_samples\n",
    "rx_sig_reshaped = np.transpose(np.reshape(rx_sig, (n_rxs, rx_len_samples), order='C'))\n",
    "print(f\"len(rx_sig): {len(rx_sig)}\")\n",
    "print(f\"n_rxs: {n_rxs}\")\n",
    "print(f\"rx_sig shape: {np.shape(rx_sig)}\")\n",
    "print(f\"rx_sig_reshaped shape: {np.shape(rx_sig_reshaped)}\")\n",
    "\n",
    "xcorr_results = np.zeros(((rx_len_samples-len(tx_sig))+1, np.shape(rx_sig_reshaped)[1]//n_stack), dtype=np.csingle)\n",
    "print(f\"shape of xcorr_results: {np.shape(xcorr_results)}\")\n",
    "\n",
    "for res_idx in range(np.shape(xcorr_results)[1]):\n",
    "    stacked = np.sum(rx_sig_reshaped[:,res_idx*n_stack:(res_idx+1)*n_stack], axis=1)\n",
    "    xcorr_results[:, res_idx] = sp.correlate(stacked, tx_sig, mode='valid', method='auto')"
   ]
  },
  {
   "cell_type": "code",
   "execution_count": null,
   "id": "0424bfd4",
   "metadata": {},
   "outputs": [],
   "source": [
    "fig, ax = plt.subplots(figsize=(10,6), facecolor='white')\n",
    "slow_time = np.linspace(0, config['CHIRP']['pulse_rep_int']*config['CHIRP']['num_presums']*n_rxs, np.shape(xcorr_results)[1])\n",
    "distance_to_reflector = np.linspace(0, np.shape(xcorr_results)[0]/sample_rate, np.shape(xcorr_results)[0]) * sig_speed / 2\n",
    "zero_sample_idx = 159\n",
    "distance_to_reflector = distance_to_reflector - distance_to_reflector[zero_sample_idx]\n",
    "\n",
    "p = ax.pcolormesh(slow_time, distance_to_reflector, 20*np.log10(np.abs(xcorr_results)), shading='auto')\n",
    "clb = fig.colorbar(p)\n",
    "clb.set_label('Power [dB]')\n",
    "ax.set_xlabel('Time [s]')\n",
    "ax.set_ylabel('Relative distance to target [m]')\n",
    "ax.set_ylim(0,1000)\n",
    "ax.set_ylim(0,100)\n",
    "plt.show()"
   ]
  },
  {
   "cell_type": "code",
   "execution_count": null,
   "id": "e577a60a",
   "metadata": {},
   "outputs": [],
   "source": [
    "# Must enable widgets (see imports block) for this to work\n",
    "\n",
    "# def plot_timestep(idx):\n",
    "#     fig, ax = plt.subplots()\n",
    "#     ax.plot(distance_to_reflector, 20*np.log10(np.abs(xcorr_results[:,idx])))\n",
    "#     ax.set_ylim(0,100)\n",
    "#     ax.set_xlim(0, 100)\n",
    "#     ax.grid()\n",
    "#     return fig, ax\n",
    "    \n",
    "# widgets.interact(plot_timestep, idx=widgets.IntSlider(min=0, max=np.shape(xcorr_results)[1]-1, step=1, value=0))"
   ]
  }
 ],
 "metadata": {
  "kernelspec": {
   "display_name": "Python [conda env:rg]",
   "language": "python",
   "name": "conda-env-rg-filprofile"
  },
  "language_info": {
   "codemirror_mode": {
    "name": "ipython",
    "version": 3
   },
   "file_extension": ".py",
   "mimetype": "text/x-python",
   "name": "python",
   "nbconvert_exporter": "python",
   "pygments_lexer": "ipython3",
   "version": "3.8.10"
  }
 },
 "nbformat": 4,
 "nbformat_minor": 5
}
